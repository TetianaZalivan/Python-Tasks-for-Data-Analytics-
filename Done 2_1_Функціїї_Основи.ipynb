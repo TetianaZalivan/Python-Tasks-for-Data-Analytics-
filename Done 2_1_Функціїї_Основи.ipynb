{
 "cells": [
  {
   "cell_type": "markdown",
   "metadata": {
    "id": "QtHabST6Ez_n"
   },
   "source": [
    "# Домашнє завдання до теми \"Functions\""
   ]
  },
  {
   "cell_type": "markdown",
   "metadata": {
    "id": "6pg_NzFq5_kO"
   },
   "source": [
    "1. Напишіть фукнцію `print_message`, яка виводить на екран \"Я програмую на Python💪\" і викличіть цю фукнцію 5 разів (найкраще це зробити в циклі).\n",
    "\n",
    "  **Увага**: фукнція має робити чітко лише зазначений функціонал. Наявність додаткового функціоналу і аргументів, які не потрібні для виконання безпосередньо завдання, буде вважатись помилкою."
   ]
  },
  {
   "cell_type": "code",
   "execution_count": 10,
   "metadata": {
    "id": "RbXsfwI_D8ql",
    "tags": []
   },
   "outputs": [
    {
     "name": "stdout",
     "output_type": "stream",
     "text": [
      "Я програмую на Python💪\n",
      "Я програмую на Python💪\n",
      "Я програмую на Python💪\n",
      "Я програмую на Python💪\n",
      "Я програмую на Python💪\n"
     ]
    }
   ],
   "source": [
    "''' def print_message():\n",
    "    return \"Я програмую на Python💪\"\n",
    "print_message()*5  ''' #why I do not have an error here? when I multiply str * 5 int\n",
    "def print_message():\n",
    "    return \"Я програмую на Python💪\"\n",
    "for _ in range(5):\n",
    "    print(print_message())\n"
   ]
  },
  {
   "cell_type": "markdown",
   "metadata": {
    "id": "oyRpWRXWBL9N"
   },
   "source": [
    "2. Напишіть функцію `calculation` яка приймає на вхід 4 аргументи типу int - `a`, `b`, `c`, `d` і вертає результат обчислення такої формули: $ (a + b - c) * d $.\n",
    "\n",
    "  Викличте функцію на наступному наборі аргументів і виведіть результат на екран:\n",
    "  ```\n",
    "  a = 16\n",
    "  b = 4\n",
    "  c = 9\n",
    "  d = 3\n",
    "  ```"
   ]
  },
  {
   "cell_type": "code",
   "execution_count": 19,
   "metadata": {
    "id": "Ggt2tx6kD-LS",
    "tags": []
   },
   "outputs": [
    {
     "data": {
      "text/plain": [
       "33"
      ]
     },
     "execution_count": 19,
     "metadata": {},
     "output_type": "execute_result"
    }
   ],
   "source": [
    "def add(a: int, b: int, c: int, d: int) -> int:\n",
    "    assert type(a) == int and type(b) == int and type(c) == int and type(d) == int # not obligatory line\n",
    "    return (a + b - c) * d \n",
    "a = 16\n",
    "b = 4\n",
    "c = 9\n",
    "d = 3\n",
    "add(a, b, c, d)"
   ]
  },
  {
   "cell_type": "markdown",
   "metadata": {
    "id": "5hf1CbllDU_t"
   },
   "source": [
    "3. Напишіть функцію, яка додає до аргумента 15 і вертає результат додавання. Викличте функцію, передаючи в якості аргументів кожну з наступних змінних по черзі, і виведіть кожного разу результат на екран.\n",
    "```\n",
    "x = 9\n",
    "y = 14\n",
    "z = -19\n",
    "```"
   ]
  },
  {
   "cell_type": "code",
   "execution_count": 35,
   "metadata": {
    "id": "GvEs_nUtD_Cd",
    "tags": []
   },
   "outputs": [
    {
     "name": "stdout",
     "output_type": "stream",
     "text": [
      "24\n",
      "29\n",
      "-4\n"
     ]
    }
   ],
   "source": [
    "'''\n",
    "def add(num: int, const_num: int):\n",
    "    return num + const_num\n",
    "x = 9\n",
    "y = 14\n",
    "z = -19\n",
    "const_num = 15\n",
    "print(add(x,const_num))\n",
    "print(add(y,const_num))\n",
    "print(add(z,const_num))\n",
    "'''\n",
    "def add_fifteen(num):\n",
    "    result = num + 15\n",
    "    return result\n",
    "x = 9\n",
    "y = 14\n",
    "z = -19\n",
    "print(add_fifteen(x))\n",
    "print(add_fifteen(y))\n",
    "print(add_fifteen(z))\n"
   ]
  },
  {
   "cell_type": "markdown",
   "metadata": {
    "id": "bUuVBhie53uK"
   },
   "source": [
    "4. Напишіть функцію `multipy_numbers`, яка приймає два числа як аргументи і повертає їх добуток.\n",
    "\n",
    "  Викличіть функцію `multipy_numbers` на парах чисел\n",
    "    - 10 і 2\n",
    "    - 7 і 8\n",
    "    - 1024 і 999.\n",
    "  \n",
    "  Виведіть результат кожного виклику.\n",
    "  При виконанні цього завдання з використанням циклу - отримаєте 2х балів за нього :)"
   ]
  },
  {
   "cell_type": "code",
   "execution_count": 50,
   "metadata": {
    "id": "cDqrgZ4YEAKj",
    "tags": []
   },
   "outputs": [
    {
     "name": "stdout",
     "output_type": "stream",
     "text": [
      "Multiplying -10 and 2 equals: -20\n",
      "Multiplying -7 and 8 equals: -56\n",
      "Multiplying -1024 and 999 equals: -1022976\n"
     ]
    }
   ],
   "source": [
    "'''\n",
    "def multipy_numbers(num1,num2):\n",
    "    return num1 * num2\n",
    "x, y = -10, 2\n",
    "a, b = -7, 8\n",
    "c, d = -1024, 999\n",
    "\n",
    "print(multipy_numbers(x, y))\n",
    "print(multipy_numbers(a, b))\n",
    "print(multipy_numbers(c, d)) \n",
    "'''\n",
    "def multiply_numbers(num1,num2):\n",
    "    return num1 * num2\n",
    "\n",
    "pairs = [(-10, 2), (-7, 8), (-1024, 999)]\n",
    "\n",
    "for pair in pairs:\n",
    "    result = multiply_numbers(pair[0], pair[1])\n",
    "    #print(result)\n",
    "    print(f\"Multiplying {pair[0]} and {pair[1]} equals: {result}\")\n",
    "\n",
    "   "
   ]
  },
  {
   "cell_type": "markdown",
   "metadata": {
    "id": "I03t46k27dDZ"
   },
   "source": [
    "**5. Ділення з перевіркою типів.**  \n",
    "\n",
    "  1. Напишіть функцію `int_division` яка приймає на вхід два аргументи типу `int` - `a` і `b`, і виконує ділення першого аргумента на другий: `a/b`. При цьому функція перед діленням перевіряє, чи другий аргумент не дорівнює 0. Якщо другий аргумент не 0, фукнція вертає результат ділення, інакше - замість виконання ділення, вертає повідомлення на екран \"Не можу виконати ділення на 0\".\n",
    "\n",
    "    Якщо типи, надані у функцію, не `int` - функція виводить повідомлення \"Не працюю з такими типами даних.\".\n",
    "\n",
    "  2. Запустіть функцію на наступних парах чисел:\n",
    "  - 12 і 6\n",
    "  - 20 і 0\n",
    "  - 112 і 10\n",
    "  - 99 і 0\n",
    "  - 11 i 1.1\n",
    "\n",
    "    і виведіть на екран повідомлення \"Результат роботи функції: \" - і далі те, що повернула функція.\n",
    "\n",
    "  3. Дайте відповідь на питання: \"Чому в деяких випадках функція повернула None?\""
   ]
  },
  {
   "cell_type": "code",
   "execution_count": 32,
   "metadata": {
    "id": "1-EQhxrAEEAb",
    "tags": []
   },
   "outputs": [
    {
     "name": "stdout",
     "output_type": "stream",
     "text": [
      "Результат роботи функції: 2\n",
      "Результат роботи функції: Не можу виконати ділення на 0\n",
      "Результат роботи функції: 11\n",
      "Результат роботи функції: Не можу виконати ділення на 0\n",
      "Результат роботи функції: Не працюю з такими типами даних.\n"
     ]
    }
   ],
   "source": [
    "def int_division(a: int, b: int):\n",
    "    if not isinstance(a, int) or not isinstance(b, int):\n",
    "        return \"Не працюю з такими типами даних.\"\n",
    "    if b == 0:\n",
    "        return \"Не можу виконати ділення на 0\"\n",
    "    return a // b \n",
    "\n",
    "pairs = [(12, 6), (20, 0), (112, 10), (99, 0), (11, 1.1)]\n",
    "for pair in pairs:\n",
    "    result = int_division(pair[0], pair[1])\n",
    "    print(f\"Результат роботи функції: {result}\")   \n",
    "    \n",
    "    \n",
    "\"\"\"\n",
    "if not isinstance(a, int) or not isinstance (b, int ):\n",
    "    print(\"Не працюю з такими типами даних.\")  \n",
    "    return\n",
    "if b == 0:\n",
    "    print(\"Не можу виконати ділення на 0\")\n",
    "    return \n",
    "\"\"\"\n",
    "#when I had print option in the function I had None as an additional printed result, after pairs which are in the commented conditions\n",
    "#this was because of I asked to 'print....', and then I asked for 'return' which print none because no condition is spesified"
   ]
  },
  {
   "cell_type": "code",
   "execution_count": null,
   "metadata": {},
   "outputs": [],
   "source": []
  }
 ],
 "metadata": {
  "colab": {
   "provenance": []
  },
  "kernelspec": {
   "display_name": "Python 3 (ipykernel)",
   "language": "python",
   "name": "python3"
  },
  "language_info": {
   "codemirror_mode": {
    "name": "ipython",
    "version": 3
   },
   "file_extension": ".py",
   "mimetype": "text/x-python",
   "name": "python",
   "nbconvert_exporter": "python",
   "pygments_lexer": "ipython3",
   "version": "3.11.5"
  }
 },
 "nbformat": 4,
 "nbformat_minor": 4
}
