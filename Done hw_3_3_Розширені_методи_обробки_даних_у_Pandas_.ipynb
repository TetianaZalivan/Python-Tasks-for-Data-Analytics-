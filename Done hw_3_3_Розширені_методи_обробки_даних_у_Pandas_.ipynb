{
 "cells": [
  {
   "cell_type": "markdown",
   "metadata": {
    "id": "wF6xe36Osbxi"
   },
   "source": [
    "# Домашнє завдання до теми \"Розширені методи обробки даних у Pandas\""
   ]
  },
  {
   "cell_type": "markdown",
   "metadata": {
    "id": "Fa2CIJElO3L3"
   },
   "source": [
    "В цьому домашньому завданні продовжуємо працювати з набором даних `supermarket_sales.csv`."
   ]
  },
  {
   "cell_type": "markdown",
   "metadata": {
    "id": "z0F_6xB-DQi7"
   },
   "source": [
    "0. Імпортуйте бібліотеку pandas та зчитайте дані у змінну `df` типу `pandas.DataFrame`."
   ]
  },
  {
   "cell_type": "code",
   "execution_count": 13,
   "metadata": {
    "id": "-4jR3F-rDQi7",
    "tags": []
   },
   "outputs": [],
   "source": [
    "import pandas as pd\n",
    "import os\n",
    "os.listdir('../data/')\n",
    "data_path = '../data/supermarket_sales.csv'\n",
    "df = pd.read_csv(data_path)"
   ]
  },
  {
   "cell_type": "markdown",
   "metadata": {
    "id": "hH26_h5wOLfj"
   },
   "source": [
    "1. Відсортуйте дані за спаданням ціни товара ('Unit price') і виведіть 5 перших рядочків на екран."
   ]
  },
  {
   "cell_type": "code",
   "execution_count": 5,
   "metadata": {
    "id": "C_CMIujQN9s6",
    "tags": []
   },
   "outputs": [
    {
     "data": {
      "text/html": [
       "<div>\n",
       "<style scoped>\n",
       "    .dataframe tbody tr th:only-of-type {\n",
       "        vertical-align: middle;\n",
       "    }\n",
       "\n",
       "    .dataframe tbody tr th {\n",
       "        vertical-align: top;\n",
       "    }\n",
       "\n",
       "    .dataframe thead th {\n",
       "        text-align: right;\n",
       "    }\n",
       "</style>\n",
       "<table border=\"1\" class=\"dataframe\">\n",
       "  <thead>\n",
       "    <tr style=\"text-align: right;\">\n",
       "      <th></th>\n",
       "      <th>Invoice ID</th>\n",
       "      <th>Branch</th>\n",
       "      <th>City</th>\n",
       "      <th>Customer type</th>\n",
       "      <th>Gender</th>\n",
       "      <th>Product line</th>\n",
       "      <th>Unit price</th>\n",
       "      <th>Quantity</th>\n",
       "      <th>Tax 5%</th>\n",
       "      <th>Total</th>\n",
       "      <th>Date</th>\n",
       "      <th>Time</th>\n",
       "      <th>Payment</th>\n",
       "      <th>cogs</th>\n",
       "      <th>gross margin percentage</th>\n",
       "      <th>gross income</th>\n",
       "      <th>Rating</th>\n",
       "    </tr>\n",
       "  </thead>\n",
       "  <tbody>\n",
       "    <tr>\n",
       "      <th>983</th>\n",
       "      <td>148-41-7930</td>\n",
       "      <td>C</td>\n",
       "      <td>Naypyitaw</td>\n",
       "      <td>Normal</td>\n",
       "      <td>Male</td>\n",
       "      <td>Health and beauty</td>\n",
       "      <td>99.96</td>\n",
       "      <td>7</td>\n",
       "      <td>34.986</td>\n",
       "      <td>734.706</td>\n",
       "      <td>1/23/2019</td>\n",
       "      <td>10:33</td>\n",
       "      <td>Cash</td>\n",
       "      <td>699.72</td>\n",
       "      <td>4.761905</td>\n",
       "      <td>34.986</td>\n",
       "      <td>6.1</td>\n",
       "    </tr>\n",
       "    <tr>\n",
       "      <th>122</th>\n",
       "      <td>219-22-9386</td>\n",
       "      <td>B</td>\n",
       "      <td>Mandalay</td>\n",
       "      <td>Member</td>\n",
       "      <td>Male</td>\n",
       "      <td>Sports and travel</td>\n",
       "      <td>99.96</td>\n",
       "      <td>9</td>\n",
       "      <td>44.982</td>\n",
       "      <td>944.622</td>\n",
       "      <td>3/9/2019</td>\n",
       "      <td>17:26</td>\n",
       "      <td>Credit card</td>\n",
       "      <td>899.64</td>\n",
       "      <td>4.761905</td>\n",
       "      <td>44.982</td>\n",
       "      <td>4.2</td>\n",
       "    </tr>\n",
       "    <tr>\n",
       "      <th>930</th>\n",
       "      <td>641-62-7288</td>\n",
       "      <td>B</td>\n",
       "      <td>Mandalay</td>\n",
       "      <td>Normal</td>\n",
       "      <td>Male</td>\n",
       "      <td>Home and lifestyle</td>\n",
       "      <td>99.92</td>\n",
       "      <td>6</td>\n",
       "      <td>29.976</td>\n",
       "      <td>629.496</td>\n",
       "      <td>3/24/2019</td>\n",
       "      <td>13:33</td>\n",
       "      <td>Ewallet</td>\n",
       "      <td>599.52</td>\n",
       "      <td>4.761905</td>\n",
       "      <td>29.976</td>\n",
       "      <td>7.1</td>\n",
       "    </tr>\n",
       "    <tr>\n",
       "      <th>494</th>\n",
       "      <td>437-53-3084</td>\n",
       "      <td>B</td>\n",
       "      <td>Mandalay</td>\n",
       "      <td>Normal</td>\n",
       "      <td>Male</td>\n",
       "      <td>Fashion accessories</td>\n",
       "      <td>99.89</td>\n",
       "      <td>2</td>\n",
       "      <td>9.989</td>\n",
       "      <td>209.769</td>\n",
       "      <td>2/26/2019</td>\n",
       "      <td>11:48</td>\n",
       "      <td>Ewallet</td>\n",
       "      <td>199.78</td>\n",
       "      <td>4.761905</td>\n",
       "      <td>9.989</td>\n",
       "      <td>7.1</td>\n",
       "    </tr>\n",
       "    <tr>\n",
       "      <th>283</th>\n",
       "      <td>667-92-0055</td>\n",
       "      <td>A</td>\n",
       "      <td>Yangon</td>\n",
       "      <td>Member</td>\n",
       "      <td>Male</td>\n",
       "      <td>Health and beauty</td>\n",
       "      <td>99.83</td>\n",
       "      <td>6</td>\n",
       "      <td>29.949</td>\n",
       "      <td>628.929</td>\n",
       "      <td>3/4/2019</td>\n",
       "      <td>15:02</td>\n",
       "      <td>Ewallet</td>\n",
       "      <td>598.98</td>\n",
       "      <td>4.761905</td>\n",
       "      <td>29.949</td>\n",
       "      <td>8.5</td>\n",
       "    </tr>\n",
       "  </tbody>\n",
       "</table>\n",
       "</div>"
      ],
      "text/plain": [
       "      Invoice ID Branch       City Customer type Gender         Product line  \\\n",
       "983  148-41-7930      C  Naypyitaw        Normal   Male    Health and beauty   \n",
       "122  219-22-9386      B   Mandalay        Member   Male    Sports and travel   \n",
       "930  641-62-7288      B   Mandalay        Normal   Male   Home and lifestyle   \n",
       "494  437-53-3084      B   Mandalay        Normal   Male  Fashion accessories   \n",
       "283  667-92-0055      A     Yangon        Member   Male    Health and beauty   \n",
       "\n",
       "     Unit price  Quantity  Tax 5%    Total       Date   Time      Payment  \\\n",
       "983       99.96         7  34.986  734.706  1/23/2019  10:33         Cash   \n",
       "122       99.96         9  44.982  944.622   3/9/2019  17:26  Credit card   \n",
       "930       99.92         6  29.976  629.496  3/24/2019  13:33      Ewallet   \n",
       "494       99.89         2   9.989  209.769  2/26/2019  11:48      Ewallet   \n",
       "283       99.83         6  29.949  628.929   3/4/2019  15:02      Ewallet   \n",
       "\n",
       "       cogs  gross margin percentage  gross income  Rating  \n",
       "983  699.72                 4.761905        34.986     6.1  \n",
       "122  899.64                 4.761905        44.982     4.2  \n",
       "930  599.52                 4.761905        29.976     7.1  \n",
       "494  199.78                 4.761905         9.989     7.1  \n",
       "283  598.98                 4.761905        29.949     8.5  "
      ]
     },
     "execution_count": 5,
     "metadata": {},
     "output_type": "execute_result"
    }
   ],
   "source": [
    "df.sort_values(by=\"Unit price\", ascending=False).head()"
   ]
  },
  {
   "cell_type": "markdown",
   "metadata": {
    "id": "H7IyOIfIONXy"
   },
   "source": [
    "2. Знайдіть інвойс (рядок в даних) в категорії товарів Electronic accessories, в якому був куплений товар з найбільшою кількістю і найбільшою ціною. Виведіть цей рядок даних на екран."
   ]
  },
  {
   "cell_type": "code",
   "execution_count": 7,
   "metadata": {
    "id": "rHtk3rXoNHr5",
    "tags": []
   },
   "outputs": [
    {
     "data": {
      "text/html": [
       "<div>\n",
       "<style scoped>\n",
       "    .dataframe tbody tr th:only-of-type {\n",
       "        vertical-align: middle;\n",
       "    }\n",
       "\n",
       "    .dataframe tbody tr th {\n",
       "        vertical-align: top;\n",
       "    }\n",
       "\n",
       "    .dataframe thead th {\n",
       "        text-align: right;\n",
       "    }\n",
       "</style>\n",
       "<table border=\"1\" class=\"dataframe\">\n",
       "  <thead>\n",
       "    <tr style=\"text-align: right;\">\n",
       "      <th></th>\n",
       "      <th>Invoice ID</th>\n",
       "      <th>Branch</th>\n",
       "      <th>City</th>\n",
       "      <th>Customer type</th>\n",
       "      <th>Gender</th>\n",
       "      <th>Product line</th>\n",
       "      <th>Unit price</th>\n",
       "      <th>Quantity</th>\n",
       "      <th>Tax 5%</th>\n",
       "      <th>Total</th>\n",
       "      <th>Date</th>\n",
       "      <th>Time</th>\n",
       "      <th>Payment</th>\n",
       "      <th>cogs</th>\n",
       "      <th>gross margin percentage</th>\n",
       "      <th>gross income</th>\n",
       "      <th>Rating</th>\n",
       "    </tr>\n",
       "  </thead>\n",
       "  <tbody>\n",
       "    <tr>\n",
       "      <th>209</th>\n",
       "      <td>817-69-8206</td>\n",
       "      <td>B</td>\n",
       "      <td>Mandalay</td>\n",
       "      <td>Normal</td>\n",
       "      <td>Female</td>\n",
       "      <td>Electronic accessories</td>\n",
       "      <td>99.73</td>\n",
       "      <td>9</td>\n",
       "      <td>44.8785</td>\n",
       "      <td>942.4485</td>\n",
       "      <td>3/2/2019</td>\n",
       "      <td>19:42</td>\n",
       "      <td>Credit card</td>\n",
       "      <td>897.57</td>\n",
       "      <td>4.761905</td>\n",
       "      <td>44.8785</td>\n",
       "      <td>6.5</td>\n",
       "    </tr>\n",
       "  </tbody>\n",
       "</table>\n",
       "</div>"
      ],
      "text/plain": [
       "      Invoice ID Branch      City Customer type  Gender  \\\n",
       "209  817-69-8206      B  Mandalay        Normal  Female   \n",
       "\n",
       "               Product line  Unit price  Quantity   Tax 5%     Total  \\\n",
       "209  Electronic accessories       99.73         9  44.8785  942.4485   \n",
       "\n",
       "         Date   Time      Payment    cogs  gross margin percentage  \\\n",
       "209  3/2/2019  19:42  Credit card  897.57                 4.761905   \n",
       "\n",
       "     gross income  Rating  \n",
       "209       44.8785     6.5  "
      ]
     },
     "execution_count": 7,
     "metadata": {},
     "output_type": "execute_result"
    }
   ],
   "source": [
    "#electronic_top_sales = df[df['Product line'] == 'Electronic accessories'].sort_values(by=[\"Quantity\", \"Unit price\"], ascending=[False, False])\n",
    "#electronic_top_sales.head(1)\n",
    "electronic_top_sales = df[df['Product line'] == 'Electronic accessories'].sort_values(by=[\"Total\"], ascending=[False])\n",
    "electronic_top_sales.head(1)\n"
   ]
  },
  {
   "cell_type": "markdown",
   "metadata": {
    "id": "n2iSihPRDHvv"
   },
   "source": [
    "3.1. Створіть нову колонку в даних `Rating Category`, яка визначає категорію рейтингу: високий, середній чи низький за наступним правилом:\n",
    "- якщо рейтинг вищий або рівний 8 - то він високий (`High`)\n",
    "- якщо рейтинг від 6 до 8 не включаючи - то він середній (`Medium`)\n",
    "- інакше - низький (`Low`)."
   ]
  },
  {
   "cell_type": "code",
   "execution_count": 25,
   "metadata": {
    "id": "WfYpk_VdD_sI"
   },
   "outputs": [
    {
     "data": {
      "text/plain": [
       "0        High\n",
       "1        High\n",
       "2      Medium\n",
       "3        High\n",
       "4         Low\n",
       "        ...  \n",
       "995    Medium\n",
       "996       Low\n",
       "997    Medium\n",
       "998       Low\n",
       "999    Medium\n",
       "Name: Rating Category, Length: 1000, dtype: object"
      ]
     },
     "execution_count": 25,
     "metadata": {},
     "output_type": "execute_result"
    }
   ],
   "source": [
    "df['Rating Category'] = df.Rating.apply(lambda x: 'High' if x>=8  else ('Medium' if x >= 6 else 'Low')) \n",
    "df['Rating Category']\n"
   ]
  },
  {
   "cell_type": "markdown",
   "metadata": {
    "id": "0tTSRjXDEdDe"
   },
   "source": [
    "3.2. Виведіть, який відсоток даних становить кожне зі значень категорій рейтингу."
   ]
  },
  {
   "cell_type": "code",
   "execution_count": 2,
   "metadata": {
    "id": "gYd_Y96ODS3a"
   },
   "outputs": [
    {
     "data": {
      "text/plain": [
       "0      0.130509\n",
       "1      0.137680\n",
       "2      0.106128\n",
       "3      0.120470\n",
       "4      0.076011\n",
       "         ...   \n",
       "995    0.088918\n",
       "996    0.063103\n",
       "997    0.110431\n",
       "998    0.058801\n",
       "999    0.094655\n",
       "Name: Rating, Length: 1000, dtype: float64"
      ]
     },
     "execution_count": 2,
     "metadata": {},
     "output_type": "execute_result"
    }
   ],
   "source": [
    "def percent(x, total):\n",
    "    return (x / total) * 100\n",
    "df['Rating'].apply(percent, total=df['Rating'].sum())\n",
    "#df['Rating'].apply(percent, total=df['Rating'].sum()).sum() check line\n"
   ]
  },
  {
   "cell_type": "markdown",
   "metadata": {
    "id": "qGPne8sFHGGM"
   },
   "source": [
    "4.1. Запустіть код нижче аби створити змінну `time`. Ця змінна містить час в форматі \"година:хвилина\". Напишіть функцію `get_hour`, яка буде зі змінної формату як `time` дістати лише години і конвертувати їх у тип `int`.\n",
    "\n",
    "Запустіть написану функцію на змінній `time` та перевірте правильність роботи функції."
   ]
  },
  {
   "cell_type": "code",
   "execution_count": 1,
   "metadata": {
    "id": "OZ2DD2AGEZme"
   },
   "outputs": [],
   "source": [
    "time = '11:28'"
   ]
  },
  {
   "cell_type": "code",
   "execution_count": 14,
   "metadata": {
    "id": "BxDWBPalHimp"
   },
   "outputs": [
    {
     "data": {
      "text/plain": [
       "11"
      ]
     },
     "execution_count": 14,
     "metadata": {},
     "output_type": "execute_result"
    }
   ],
   "source": [
    "def get_hour(h):\n",
    "    hour_str = h.split(':')[0]\n",
    "    return int(hour_str)\n",
    "get_hour(time)"
   ]
  },
  {
   "cell_type": "markdown",
   "metadata": {
    "id": "3F7Nmc84IM9C"
   },
   "source": [
    "4.2. З допомогою функції `get_hour` і метода `DataFrame.apply()` створіть нову колонку `Hour` в нашому наборі даних, яка буде містити години здійснення покупки, обчислені на основі часу здійснення покупки `Time`."
   ]
  },
  {
   "cell_type": "code",
   "execution_count": 20,
   "metadata": {
    "id": "P-DQNIwQH_Io"
   },
   "outputs": [
    {
     "data": {
      "text/html": [
       "<div>\n",
       "<style scoped>\n",
       "    .dataframe tbody tr th:only-of-type {\n",
       "        vertical-align: middle;\n",
       "    }\n",
       "\n",
       "    .dataframe tbody tr th {\n",
       "        vertical-align: top;\n",
       "    }\n",
       "\n",
       "    .dataframe thead th {\n",
       "        text-align: right;\n",
       "    }\n",
       "</style>\n",
       "<table border=\"1\" class=\"dataframe\">\n",
       "  <thead>\n",
       "    <tr style=\"text-align: right;\">\n",
       "      <th></th>\n",
       "      <th>Hour</th>\n",
       "      <th>Time</th>\n",
       "    </tr>\n",
       "  </thead>\n",
       "  <tbody>\n",
       "    <tr>\n",
       "      <th>0</th>\n",
       "      <td>13</td>\n",
       "      <td>13:08</td>\n",
       "    </tr>\n",
       "    <tr>\n",
       "      <th>1</th>\n",
       "      <td>10</td>\n",
       "      <td>10:29</td>\n",
       "    </tr>\n",
       "    <tr>\n",
       "      <th>2</th>\n",
       "      <td>13</td>\n",
       "      <td>13:23</td>\n",
       "    </tr>\n",
       "    <tr>\n",
       "      <th>3</th>\n",
       "      <td>20</td>\n",
       "      <td>20:33</td>\n",
       "    </tr>\n",
       "    <tr>\n",
       "      <th>4</th>\n",
       "      <td>10</td>\n",
       "      <td>10:37</td>\n",
       "    </tr>\n",
       "    <tr>\n",
       "      <th>...</th>\n",
       "      <td>...</td>\n",
       "      <td>...</td>\n",
       "    </tr>\n",
       "    <tr>\n",
       "      <th>995</th>\n",
       "      <td>13</td>\n",
       "      <td>13:46</td>\n",
       "    </tr>\n",
       "    <tr>\n",
       "      <th>996</th>\n",
       "      <td>17</td>\n",
       "      <td>17:16</td>\n",
       "    </tr>\n",
       "    <tr>\n",
       "      <th>997</th>\n",
       "      <td>13</td>\n",
       "      <td>13:22</td>\n",
       "    </tr>\n",
       "    <tr>\n",
       "      <th>998</th>\n",
       "      <td>15</td>\n",
       "      <td>15:33</td>\n",
       "    </tr>\n",
       "    <tr>\n",
       "      <th>999</th>\n",
       "      <td>13</td>\n",
       "      <td>13:28</td>\n",
       "    </tr>\n",
       "  </tbody>\n",
       "</table>\n",
       "<p>1000 rows × 2 columns</p>\n",
       "</div>"
      ],
      "text/plain": [
       "     Hour   Time\n",
       "0      13  13:08\n",
       "1      10  10:29\n",
       "2      13  13:23\n",
       "3      20  20:33\n",
       "4      10  10:37\n",
       "..    ...    ...\n",
       "995    13  13:46\n",
       "996    17  17:16\n",
       "997    13  13:22\n",
       "998    15  15:33\n",
       "999    13  13:28\n",
       "\n",
       "[1000 rows x 2 columns]"
      ]
     },
     "execution_count": 20,
     "metadata": {},
     "output_type": "execute_result"
    }
   ],
   "source": [
    "df['Hour']=df['Time'].apply(get_hour)\n",
    "df[['Hour','Time']]"
   ]
  },
  {
   "cell_type": "markdown",
   "metadata": {
    "id": "VcuugIB2IszQ"
   },
   "source": [
    "4.3. Виведіть кількість значень за кожною годиною покупки і дайте відповідь \"О яких годинах найбільше здійснюють покупок покупці і чому на Ваш погляд саме о цих годинах? Чи це слогічно, що найбільше покупок саме в ці години?\"."
   ]
  },
  {
   "cell_type": "code",
   "execution_count": 34,
   "metadata": {
    "id": "5NgTbHM8I-Or"
   },
   "outputs": [
    {
     "data": {
      "text/plain": [
       "Hour\n",
       "19    113\n",
       "13    103\n",
       "15    102\n",
       "10    101\n",
       "18     93\n",
       "11     90\n",
       "12     89\n",
       "14     83\n",
       "16     77\n",
       "20     75\n",
       "17     74\n",
       "Name: count, dtype: int64"
      ]
     },
     "execution_count": 34,
     "metadata": {},
     "output_type": "execute_result"
    }
   ],
   "source": [
    "df.Hour.value_counts()\n",
    "#display(df.Hour.value_counts().head(3), df.Hour.value_counts().tail(4))\n",
    "''' Most sales occur during off-hours at 7pm (when people return from work, school, etc.) and at lunchtime. So when the people are free and happy''' "
   ]
  },
  {
   "cell_type": "markdown",
   "metadata": {
    "id": "vUniX9GAKtco"
   },
   "source": [
    "5. Виведіть середнє значення чеку (`Total`) для покупок в містах, наявних в даних, за допомогою функції `groupby`."
   ]
  },
  {
   "cell_type": "code",
   "execution_count": 44,
   "metadata": {
    "id": "eWRBQoO_JBY3"
   },
   "outputs": [
    {
     "data": {
      "text/plain": [
       "City\n",
       "Mandalay     319.872506\n",
       "Naypyitaw    337.099715\n",
       "Yangon       312.354031\n",
       "Name: Total, dtype: float64"
      ]
     },
     "execution_count": 44,
     "metadata": {},
     "output_type": "execute_result"
    }
   ],
   "source": [
    "df.groupby('City')['Total'].mean()"
   ]
  },
  {
   "cell_type": "markdown",
   "metadata": {
    "id": "kgXBFApjLQxp"
   },
   "source": [
    "6. Виведіть кількість покупок, середнє, мінімальне та максимальне значення для загальної суми чеку (Total) в містах, наявних в даних, за допомогою функції groupby.\n",
    "Зробіть висновки з цих показників та дайте рекомендації для мережі супермаркетів."
   ]
  },
  {
   "cell_type": "code",
   "execution_count": 62,
   "metadata": {
    "tags": []
   },
   "outputs": [
    {
     "data": {
      "text/html": [
       "<div>\n",
       "<style scoped>\n",
       "    .dataframe tbody tr th:only-of-type {\n",
       "        vertical-align: middle;\n",
       "    }\n",
       "\n",
       "    .dataframe tbody tr th {\n",
       "        vertical-align: top;\n",
       "    }\n",
       "\n",
       "    .dataframe thead th {\n",
       "        text-align: right;\n",
       "    }\n",
       "</style>\n",
       "<table border=\"1\" class=\"dataframe\">\n",
       "  <thead>\n",
       "    <tr style=\"text-align: right;\">\n",
       "      <th></th>\n",
       "      <th>count</th>\n",
       "      <th>mean</th>\n",
       "      <th>min</th>\n",
       "      <th>max</th>\n",
       "    </tr>\n",
       "    <tr>\n",
       "      <th>City</th>\n",
       "      <th></th>\n",
       "      <th></th>\n",
       "      <th></th>\n",
       "      <th></th>\n",
       "    </tr>\n",
       "  </thead>\n",
       "  <tbody>\n",
       "    <tr>\n",
       "      <th>Mandalay</th>\n",
       "      <td>332</td>\n",
       "      <td>319.873</td>\n",
       "      <td>18.638</td>\n",
       "      <td>1022.49</td>\n",
       "    </tr>\n",
       "    <tr>\n",
       "      <th>Naypyitaw</th>\n",
       "      <td>328</td>\n",
       "      <td>337.100</td>\n",
       "      <td>10.678</td>\n",
       "      <td>1042.65</td>\n",
       "    </tr>\n",
       "    <tr>\n",
       "      <th>Yangon</th>\n",
       "      <td>340</td>\n",
       "      <td>312.354</td>\n",
       "      <td>12.694</td>\n",
       "      <td>1039.29</td>\n",
       "    </tr>\n",
       "  </tbody>\n",
       "</table>\n",
       "</div>"
      ],
      "text/plain": [
       "           count     mean     min      max\n",
       "City                                      \n",
       "Mandalay     332  319.873  18.638  1022.49\n",
       "Naypyitaw    328  337.100  10.678  1042.65\n",
       "Yangon       340  312.354  12.694  1039.29"
      ]
     },
     "execution_count": 62,
     "metadata": {},
     "output_type": "execute_result"
    }
   ],
   "source": [
    "df.groupby('City')['Total'].agg(['count', 'mean', 'min', 'max']).round(3)\n"
   ]
  },
  {
   "cell_type": "markdown",
   "metadata": {
    "id": "qdspE5eWK0bq"
   },
   "source": [
    "Yangon has the highest total sale which is caused by selling more goods (not high sales price)as the mean is the lowest and total max is middle\n",
    "Recomendations:\n",
    "-have a look on the prices in different cities (also check competitors price) and find the most popular goods (analyze why)\n",
    "\n"
   ]
  },
  {
   "cell_type": "markdown",
   "metadata": {
    "id": "_GPVYoEe6M9E"
   },
   "source": [
    "7. Ми внесли деякі зміни в наш набір даних, тож, давайте запишемо результат у файл. Запишіть оновлену версію даних у файл `supermarket_sales_enriched.csv`. Зверніть увагу, аби не записати нічого зайвого, наприклад, індекси рядків нам в файлі не потрібні, оскільки вони стандартні."
   ]
  },
  {
   "cell_type": "code",
   "execution_count": 57,
   "metadata": {
    "id": "MyEE8sAR6ele"
   },
   "outputs": [],
   "source": [
    "df.to_csv('supermarket_sales_enriched', index=False)"
   ]
  },
  {
   "cell_type": "code",
   "execution_count": null,
   "metadata": {},
   "outputs": [],
   "source": []
  }
 ],
 "metadata": {
  "colab": {
   "provenance": []
  },
  "kernelspec": {
   "display_name": "Python 3 (ipykernel)",
   "language": "python",
   "name": "python3"
  },
  "language_info": {
   "codemirror_mode": {
    "name": "ipython",
    "version": 3
   },
   "file_extension": ".py",
   "mimetype": "text/x-python",
   "name": "python",
   "nbconvert_exporter": "python",
   "pygments_lexer": "ipython3",
   "version": "3.11.5"
  }
 },
 "nbformat": 4,
 "nbformat_minor": 4
}
