{
 "cells": [
  {
   "cell_type": "markdown",
   "metadata": {
    "id": "jgh9Igw3mu-R"
   },
   "source": [
    "У цьому домашньому завданні ми продовжуємо працювати з набором даних `Yulu`, з яким почали працювати в \"hw 4.3. Робота з DataFrame. Діаграма розсіювання.\". Фокус цього ДЗ в тому, аби будувати візуалізації використовуючи методи бібліотеки `seaborn`. Це дозволяє будувати гарніні візуалізації, а іноді також робити це швидше, ніж з `matplotlib`.\n",
    "\n",
    "Документація до тої частини бібліотеки, з якою тут працюємо\n",
    "\n",
    "https://pandas.pydata.org/docs/reference/api/pandas.DataFrame.plot.html\n",
    "\n",
    "### Профіль колонок набору даних:\n",
    "\n",
    "- **datetime**: дата та час зібрані погодинно\n",
    "- **season**: сезон (1: весна, 2: літо, 3: осінь, 4: зима)\n",
    "- **holiday**: чи є день святковим (витягнуто з http://dchr.dc.gov/page/holiday-schedule)\n",
    "- **workingday**: якщо день не є вихідним або святковим, то позначається як 1, в іншому випадку – 0.\n",
    "- **weather**:\n",
    "  1. Ясно, Мало хмарно, частково хмарно\n",
    "  2. Туман + Хмарно, Туман + Розірвані хмари, Туман + Мало хмарно, Туман\n",
    "  3. Легкий сніг, Легкий дощ + Гроза + Розсіяні хмари, Легкий дощ + Розсіяні хмари\n",
    "  4. Сильний дощ + Крижані кулі + Гроза + Туман, Сніг + Туман\n",
    "- **temp**: температура в градусах Цельсія\n",
    "- **atemp**: як відчувається температура в градусах Цельсія\n",
    "- **humidity**: вологість\n",
    "- **windspeed**: швидкість вітру\n",
    "- **casual**: кількість неформальних користувачів\n",
    "- **registered**: кількість зареєстрованих користувачів\n",
    "- **count**: загальна кількість велосипедів, взятих в оренду, включаючи неформальних та зареєстрованих користувачів\n",
    "\n",
    "0. Імпортуйте бібліотеки `matplotlib.pyplot`, `seaborn` та `pandas`.  Завантажте дані з файла `yulu_rental.csv` у `pandas.DataFrame` `df`."
   ]
  },
  {
   "cell_type": "code",
   "execution_count": null,
   "metadata": {
    "id": "E0Z5ig4vovDe"
   },
   "outputs": [],
   "source": []
  },
  {
   "cell_type": "markdown",
   "metadata": {
    "id": "2P0qs2j9n77l"
   },
   "source": [
    "1. Користуючись методом `seaborn.jointplot` побудуйте візуалізацію графіка розсіювання між змінними `humidity` та `count`, зазначивши колір точки в відповідності до значення змінної `weather`. Опишіть свої спостереження з графіку. Що бачите цікавого і корисного для прийняття рішень на основі цих даних?"
   ]
  },
  {
   "cell_type": "code",
   "execution_count": null,
   "metadata": {
    "id": "Wyebdk-ApRXg"
   },
   "outputs": [],
   "source": []
  },
  {
   "cell_type": "markdown",
   "metadata": {
    "id": "AFcTSVJAUd05"
   },
   "source": [
    "Очікуваний результат:\n",
    "\n",
    "![](https://drive.google.com/uc?export=view&id=16BksRhZzoz4ynPKCPjXEek56XBsAEF6T)"
   ]
  },
  {
   "cell_type": "markdown",
   "metadata": {
    "id": "Gd6gkCYHRhV4"
   },
   "source": [
    "2. Відфільтруйте і збережіть в окремій змінній лише дані з сезоно \"весна\" і \"літо\" (звернітся до опису даних вгорі ноутбуку, аби зрозуміти, які значення вам треба обрати.\n",
    "Користуючись методом `seaborn.jointplot` побудуйте візуалізацію графіка розсіювання між змінними `casual` та `registered`, зазначивши колір точки в відповідності до значення змінної `season`. Встановіть прозорість на 0.2.\n",
    "\n",
    "Опишіть свої спостереження з графіку. Що бачите цікавого і корисного для прийняття рішень на основі цих даних?"
   ]
  },
  {
   "cell_type": "code",
   "execution_count": null,
   "metadata": {
    "id": "k0eNbmOlRqNQ"
   },
   "outputs": [],
   "source": []
  },
  {
   "cell_type": "markdown",
   "metadata": {
    "id": "R7iaQb21pth5"
   },
   "source": [
    "3. Для дослідження як розподілу значень  `humidity` в залежності від погоди (`weather`) побудуйте візуалізацію типу \"ящик з вусами\" (box plot)користуючись відповідним методом бібліотеки seaborn:\n",
    "\n",
    "https://seaborn.pydata.org/generated/seaborn.boxplot.html\n"
   ]
  },
  {
   "cell_type": "code",
   "execution_count": null,
   "metadata": {
    "id": "H_Oz6pV-P-KM"
   },
   "outputs": [],
   "source": []
  },
  {
   "cell_type": "markdown",
   "metadata": {
    "id": "9fUcqxumUsZ9"
   },
   "source": [
    "Очікуваний результат:\n",
    "\n",
    "![](https://drive.google.com/uc?export=view&id=1_6CBacvDlbuV1XD9GNoGn9sJOSfr74pS)\n"
   ]
  },
  {
   "cell_type": "markdown",
   "metadata": {
    "id": "1PRIBgjLU8ij"
   },
   "source": [
    "4. Використайте бібліотеку Seaborn для створення **парних графіків** (pairplot) розсіювання, які показуватимуть взаємозв'язки між кількістю зареєстрованих, неформальних користувачів та загальною кількістю велосипедів, взятих на прокат. Кожен графік повинен розрізняти робочі та святкові дні за кольором.\n",
    "\n",
    "Для побудови цієї візуалізації спочатку відфільтруйте потрібні колонки в даних і потім зробіть візуалізацію.\n",
    "\n",
    "Проаналізуйте візуалізацію і скажіть, чи можна виявити особливу поведінку користувачів у святкові дні з цих графіків?"
   ]
  },
  {
   "cell_type": "code",
   "execution_count": null,
   "metadata": {
    "id": "7EbtUIS0VKMV"
   },
   "outputs": [],
   "source": []
  },
  {
   "cell_type": "markdown",
   "metadata": {
    "id": "0ss3SB3WZXMH"
   },
   "source": [
    "5. Змініть тип даних колонки `datetime` на `pandas.datetime`."
   ]
  },
  {
   "cell_type": "code",
   "execution_count": null,
   "metadata": {
    "id": "HtaHtytNaOes"
   },
   "outputs": [],
   "source": []
  },
  {
   "cell_type": "markdown",
   "metadata": {
    "id": "4sIDB9mzam30"
   },
   "source": [
    " Тепер давайте візуалізуємо кількість зареєстрованих та казуальних користувачів поденно. Для цього виконайте код нижче і після цього створіть нову змінну `df_viz` яка містить лише колонки `'date', 'registered', 'casual'`, згрупуйте дані за датою і відобразіть на **одному** графіку поденну динаміку двох показників з допомогою `pandas.plot`."
   ]
  },
  {
   "cell_type": "code",
   "execution_count": null,
   "metadata": {
    "id": "T5093YvCZg6S"
   },
   "outputs": [],
   "source": [
    "df['date'] = df.datetime.dt.date"
   ]
  },
  {
   "cell_type": "code",
   "execution_count": null,
   "metadata": {
    "id": "-T7Nn6yYc2d-"
   },
   "outputs": [],
   "source": []
  },
  {
   "cell_type": "markdown",
   "metadata": {
    "id": "xGbKjPkZbD6O"
   },
   "source": [
    "Очікуваний результат:\n",
    "\n",
    "![](https://drive.google.com/uc?export=view&id=1XGBqmFLXiI_v-MBEOiCQNyW6sUpvII1n)\n"
   ]
  },
  {
   "cell_type": "code",
   "execution_count": null,
   "metadata": {
    "id": "cuZ8-_WXc-1V"
   },
   "outputs": [],
   "source": []
  }
 ],
 "metadata": {
  "colab": {
   "provenance": []
  },
  "kernelspec": {
   "display_name": "Python 3 (ipykernel)",
   "language": "python",
   "name": "python3"
  },
  "language_info": {
   "codemirror_mode": {
    "name": "ipython",
    "version": 3
   },
   "file_extension": ".py",
   "mimetype": "text/x-python",
   "name": "python",
   "nbconvert_exporter": "python",
   "pygments_lexer": "ipython3",
   "version": "3.11.5"
  }
 },
 "nbformat": 4,
 "nbformat_minor": 4
}
