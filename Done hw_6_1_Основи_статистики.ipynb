{
 "cells": [
  {
   "cell_type": "markdown",
   "metadata": {
    "id": "SDhaTqxcWhnP"
   },
   "source": [
    "В цьому домашньому завданні відпрацюємо з вами знання, отримані в модулі зі статистики.\n",
    "\n",
    "**Завдання 1.** Ми обговорили з Вами на лекції, що велика літера Сігма грецького алфавіту позначає в математиці суму. Знайдіть з використанням Python $\\Sigma x$, $\\Sigma x^2$, та $\\Sigma (x-1)^2$ для наступного набору даних:\n",
    "`1 3 4`\n",
    "Виведіть результат кожного обчислення на екран."
   ]
  },
  {
   "cell_type": "code",
   "execution_count": 1,
   "metadata": {
    "id": "B1mgx_IBT0e8",
    "tags": []
   },
   "outputs": [
    {
     "name": "stdout",
     "output_type": "stream",
     "text": [
      "The list sum is 8.\n",
      "The list squares are 26.\n",
      "The list sum of squares is 13.\n"
     ]
    }
   ],
   "source": [
    "x = [1, 3, 4]\n",
    "Xsum =sum(x)\n",
    "Xsquare = sum(a**2 for a in x )\n",
    "Xsumsquare = sum((a-1)**2 for a in x )\n",
    "\n",
    "print(f'The list sum is {Xsum}.\\nThe list squares are {Xsquare}.\\nThe list sum of squares is {Xsumsquare}.')\n"
   ]
  },
  {
   "cell_type": "markdown",
   "metadata": {
    "id": "fa78aW5lhiia"
   },
   "source": [
    "**Завдання 2.** Ми зібрали дані про суму покупок в гривнях 20ма випадково обраними клієнтами в нашому магазині (всього клієнтів у нас більше) за минулий місяць. Вони представлені в змінній `sum_purchases`. Знайдіть **вибіркове середнє** для цих даних кожним з зазначених методів:   \n",
    "\n",
    "  2.1. без використання жодних бібліотек, користуючись тільки Python.  \n",
    "  2.2. використовуючи відповідний метод бібліотеки `numpy`.\n",
    "\n",
    "  Виведіть результат обчислень в кожному з випадків на екран та порівняйте результати. Вони співпадають?"
   ]
  },
  {
   "cell_type": "code",
   "execution_count": 2,
   "metadata": {
    "id": "_9kMt3rq6V5m",
    "tags": []
   },
   "outputs": [],
   "source": [
    "sum_purchases = [ 316,  493,  367,  153,  224,  121,  322,  450,  196,  397,  281,\n",
    "  239,  484,  124,  223,  448,  432,  255, 4310, 3524]"
   ]
  },
  {
   "cell_type": "code",
   "execution_count": 3,
   "metadata": {
    "id": "wPmL919HT1c0",
    "tags": []
   },
   "outputs": [
    {
     "data": {
      "text/plain": [
       "667.95"
      ]
     },
     "execution_count": 3,
     "metadata": {},
     "output_type": "execute_result"
    }
   ],
   "source": [
    "#2.1\n",
    "purc_len = len(sum_purchases)\n",
    "purc_mean = sum(sum_purchases)/purc_len\n",
    "purc_mean"
   ]
  },
  {
   "cell_type": "code",
   "execution_count": 4,
   "metadata": {
    "tags": []
   },
   "outputs": [
    {
     "data": {
      "text/plain": [
       "667.95"
      ]
     },
     "execution_count": 4,
     "metadata": {},
     "output_type": "execute_result"
    }
   ],
   "source": [
    "#2.2\n",
    "import numpy as np\n",
    "np.mean(sum_purchases)"
   ]
  },
  {
   "cell_type": "code",
   "execution_count": 5,
   "metadata": {
    "tags": []
   },
   "outputs": [
    {
     "name": "stdout",
     "output_type": "stream",
     "text": [
      "Are both means equal? False\n"
     ]
    }
   ],
   "source": [
    "Check = purc_mean==np.mean\n",
    "print(f'Are both means equal? {Check}')"
   ]
  },
  {
   "cell_type": "markdown",
   "metadata": {
    "id": "FMdoxZd0kZdW"
   },
   "source": [
    "**Завдання 3.** Для того ж набору даних в змінній `sum_purchases` обчисліть **медіану** кожним з зазначених методів:  \n",
    "\n",
    "  3.1. без використання жодних бібліотек, користуючись тільки Python.  \n",
    "  3.2. використовуючи відповідний метод бібліотеки numpy.  \n",
    "\n",
    "Виведіть результат обчислень в кожному з випадків на екран. Порівняйте результати зі значенням вибіркового середнього. Напишіть коментар, для яких задач ви б використовували вибіркове середнє, а для яких - медіану?"
   ]
  },
  {
   "cell_type": "code",
   "execution_count": 6,
   "metadata": {
    "id": "x58BumvuT2nl",
    "tags": []
   },
   "outputs": [
    {
     "data": {
      "text/plain": [
       "'Median is almost twice smaller than mean. This means that our list has significant outliers\\nin the higher side. More purchased are on the smaller amount, so the MEAN, in our case, is more valid\\nin the aspect of the average check \\nGenerally, average and mean we can use in the same tasks, when the difference beetwen them is small.\\nHowever, I suppose in the most cases we will have big difference, so I cannot give an example where the\\naverage is 100% better. \\nBusiness like to present mean (especially of hard data set or when ending user do not have access to the raw data)\\nto manipulate and show better results '"
      ]
     },
     "execution_count": 6,
     "metadata": {},
     "output_type": "execute_result"
    }
   ],
   "source": [
    "#3.1\n",
    "sorted_purchases = sorted(sum_purchases)\n",
    "median = (sorted(sum_purchases)[len(sum_purchases)//2-1] + sorted(sum_purchases)[len(sum_purchases)//2])/2\n",
    "#3.2\n",
    "np_median = np.median(sum_purchases)\n",
    "median,np_median\n",
    "'''Median is almost twice smaller than mean. This means that our list has significant outliers\n",
    "in the higher side. More purchased are on the smaller amount, so the MEAN, in our case, is more valid\n",
    "in the aspect of the average check \n",
    "Generally, average and mean we can use in the same tasks, when the difference beetwen them is small.\n",
    "However, I suppose in the most cases we will have big difference, so I cannot give an example where the\n",
    "average is 100% better. \n",
    "Business like to present mean (especially of hard data set or when ending user do not have access to the raw data)\n",
    "to manipulate and show better results '''"
   ]
  },
  {
   "cell_type": "markdown",
   "metadata": {
    "id": "o1Z7az2yNDQV"
   },
   "source": [
    "**Завдання 4**. Обчислість стандартне відхилення наведеної вибірки в змінній `sum_purchases` кожним з зазначених методів:  \n",
    "\n",
    "  4.1. без використання жодних бібліотек, користуючись тільки Python.  \n",
    "  4.2. використовуючи відповідний метод бібліотеки numpy.  \n",
    "\n",
    "Виведіть результат обчислень в кожному з випадків на екран."
   ]
  },
  {
   "cell_type": "code",
   "execution_count": 7,
   "metadata": {
    "id": "X4ixtmL2T642",
    "tags": []
   },
   "outputs": [
    {
     "name": "stdout",
     "output_type": "stream",
     "text": [
      "1096.0692713054227 1096.0692713054227\n"
     ]
    }
   ],
   "source": [
    "#4.1\n",
    "s_minus_mean = [(a - purc_mean)**2 for a in sum_purchases]\n",
    "s_std = np.sqrt(sum(s_minus_mean)/purc_len)\n",
    "\n",
    "#4.2\n",
    "n_std = np.std(sum_purchases)\n",
    "print(s_std,n_std)"
   ]
  },
  {
   "cell_type": "markdown",
   "metadata": {
    "id": "M1ntKTjXLVlH"
   },
   "source": [
    "**Завдання 5**. Ми провели дослідження віку студентів-першокурсників. Виявилось, що\n",
    "- 10 студентів мають вік 16 років\n",
    "- 25 студентів - 17 років\n",
    "- 20 студентів - 18 років\n",
    "- 2 студенти - 20 років\n",
    "\n",
    "Обчислість середнє значення для цієї вибірки будь-яким способом - на чистому Python або з numpy - та виведіть результат на екран."
   ]
  },
  {
   "cell_type": "code",
   "execution_count": 8,
   "metadata": {
    "id": "RdIU4M-7T8R4",
    "tags": []
   },
   "outputs": [
    {
     "name": "stdout",
     "output_type": "stream",
     "text": [
      "17\n"
     ]
    }
   ],
   "source": [
    "age_16 = 10\n",
    "age_17 = 25\n",
    "age_18 = 20\n",
    "age_20 = 2\n",
    "sum_ages = (age_16 * 16) + (age_17 * 17) + (age_18 * 18) + (age_20 * 20)\n",
    "average_age = sum_ages /(age_16 + age_17 + age_18 + age_20)\n",
    "print(round(average_age,))\n"
   ]
  },
  {
   "cell_type": "markdown",
   "metadata": {
    "id": "Xx8MFkkVM53z"
   },
   "source": [
    "**Завдання 6**. Крім даних про суму покупок, ми зібрали ще дані про кількість відвідувань кожного з кожного покупця, які знаходяться в змінній `visits`. Обчисліть коефіцієнт кореляції Пірсона для суми покупок і кількості відвідувань кожним з зазначених методів:  \n",
    "\n",
    "  6.1. без використання жодних бібліотек, користуючись тільки Python.  \n",
    "  6.2. використовуючи відповідний метод бібліотеки numpy.  \n",
    "  \n",
    "Виведіть результат на екран. Проаналізуйте результат.\n",
    "\n",
    "Виведіть додатково графік розсіювання викликавши код нижче і зробіть заключення, чи варто щось змінити при підрахунку кореляції, аби коефіцієнт Пірсона показував коректну оцінку лінійної залежності?"
   ]
  },
  {
   "cell_type": "code",
   "execution_count": 9,
   "metadata": {
    "id": "4OIGBT7UOWhO"
   },
   "outputs": [],
   "source": [
    "visits = [ 6,  2, 10,  3,  9,  9,  2,  3,  6,  6, 10,  2,  5, 10,  3,  5,  4,\n",
    "        7,  4,  2]"
   ]
  },
  {
   "cell_type": "code",
   "execution_count": 10,
   "metadata": {
    "id": "YLNF7VbeT97Q",
    "tags": []
   },
   "outputs": [
    {
     "name": "stdout",
     "output_type": "stream",
     "text": [
      "[[ 1.         -0.30265845]\n",
      " [-0.30265845  1.        ]] -0.31858783881754166\n"
     ]
    },
    {
     "data": {
      "text/plain": [
       "\" Pearson's correlation between visits and  sum_purchases and is weak. we have few\\noutliners in here sum_purchases 4310, 3524 which mishmash the result\\nDo we have the same visitors,which made the purchases? There is no note about it\""
      ]
     },
     "execution_count": 10,
     "metadata": {},
     "output_type": "execute_result"
    }
   ],
   "source": [
    "#6.1\n",
    "vis_mean = sum(visits) / len(visits)\n",
    "v_minus_mean = [(a - vis_mean)**2 for a in visits]\n",
    "\n",
    "v_std = np.sqrt(sum(v_minus_mean)/len(visits))\n",
    "xy = [ (sum_purchases[i] - purc_mean)*(visits[i] - vis_mean) for i in range(len(sum_purchases))]\n",
    "#range(len(visits))==range(len(sum_purchases))\n",
    "cov_xy = sum(xy)/(len(sum_purchases)-1)\n",
    "corrcoef = cov_xy / (s_std * v_std)\n",
    "\n",
    "#6.2.\n",
    "n_corrcoef = np.corrcoef(sum_purchases,visits)\n",
    "print(n_corrcoef,corrcoef)\n",
    "''' Pearson's correlation between visits and  sum_purchases and is weak. we have few\n",
    "outliners in here sum_purchases 4310, 3524 which mishmash the result\n",
    "Do we have the same visitors,which made the purchases? There is no note about it'''"
   ]
  },
  {
   "cell_type": "code",
   "execution_count": 11,
   "metadata": {
    "colab": {
     "base_uri": "https://localhost:8080/",
     "height": 472
    },
    "id": "gaeoGA-5Prr1",
    "outputId": "0c910a7f-0e96-449a-881d-1efa453b3c8d"
   },
   "outputs": [
    {
     "data": {
      "image/png": "[encoded data removed]",
      "text/plain": [
       "<Figure size 640x480 with 1 Axes>"
      ]
     },
     "metadata": {},
     "output_type": "display_data"
    }
   ],
   "source": [
    "import matplotlib.pyplot as plt\n",
    "\n",
    "plt.scatter(sum_purchases, visits)\n",
    "plt.title('Scatter Plot of Purchases vs. Visits')\n",
    "plt.xlabel('Sum of Purchases')\n",
    "plt.ylabel('Number of Visits');"
   ]
  },
  {
   "cell_type": "markdown",
   "metadata": {
    "id": "4pEg0KzSQ6KA"
   },
   "source": [
    "**Завдання 7**. В попередньому завданні ми помітили, що викиди нам заважають отримати \"правдиве\" значення кореляції. Давайте вилучимо записи, які відповідають значенням з викидами в сумі покупок і обчисліть коеф. кореляції. Для цього поставте `threshold`, який дорінює середньому значенню + 2 стандартних вдіхилля суми покупок і всі значення, які більше за нього, будемо вважати викидами (є і інші правила для визначення викидів - з ним и познайомимось пізніше).\n",
    "\n",
    "Вилучіть значення з обох масивів і обчисліть коеф. кореляції Пірсона з допомогою `numpy` для кількості візитів і суми покупок без записів-викидів. Виведіть результат на екран, побудуйте діаграму розсіювання і проаналізуйте результат: що можемо сказати про залежність в даних?"
   ]
  },
  {
   "cell_type": "code",
   "execution_count": 82,
   "metadata": {
    "id": "Yj3Yfaf7UBbc",
    "tags": []
   },
   "outputs": [
    {
     "name": "stdout",
     "output_type": "stream",
     "text": [
      "-0.3685212078127798\n"
     ]
    },
    {
     "data": {
      "image/png": "[encoded data removed]",
      "text/plain": [
       "<Figure size 640x480 with 1 Axes>"
      ]
     },
     "metadata": {},
     "output_type": "display_data"
    }
   ],
   "source": [
    "threshold = purc_mean + 2 * s_std\n",
    "#len of sum_purchases - 2 values from list <> visit len, so we need to increase it to calculate np.corrcoef\n",
    "filtered_purchases = []\n",
    "filtered_visits = []\n",
    "\n",
    "for purchase, visit in zip(sum_purchases, visits):\n",
    "    if purchase <= threshold:\n",
    "        filtered_purchases.append(purchase)\n",
    "        filtered_visits.append(visit)\n",
    "        \n",
    "filtered_purchases = np.array(filtered_purchases)\n",
    "filtered_visits = np.array(filtered_visits)\n",
    "\n",
    "threshold_corrcoef = np.corrcoef(filtered_purchases,filtered_visits)[0, 1]\n",
    "print( f'{threshold_corrcoef}')\n",
    "\n",
    "plt.scatter(filtered_purchases, filtered_visits)\n",
    "plt.title('Scatter Plot of Purchases vs. Visits without threshold')\n",
    "plt.xlabel('Sum of Purchases')\n",
    "plt.ylabel('Number of Visits');\n",
    "'''Now we can visialize that there is no correlation beetwen listed visits and purchases'''"
   ]
  },
  {
   "cell_type": "code",
   "execution_count": null,
   "metadata": {},
   "outputs": [],
   "source": []
  }
 ],
 "metadata": {
  "colab": {
   "provenance": []
  },
  "kernelspec": {
   "display_name": "Python 3 (ipykernel)",
   "language": "python",
   "name": "python3"
  },
  "language_info": {
   "codemirror_mode": {
    "name": "ipython",
    "version": 3
   },
   "file_extension": ".py",
   "mimetype": "text/x-python",
   "name": "python",
   "nbconvert_exporter": "python",
   "pygments_lexer": "ipython3",
   "version": "3.11.5"
  }
 },
 "nbformat": 4,
 "nbformat_minor": 4
}
