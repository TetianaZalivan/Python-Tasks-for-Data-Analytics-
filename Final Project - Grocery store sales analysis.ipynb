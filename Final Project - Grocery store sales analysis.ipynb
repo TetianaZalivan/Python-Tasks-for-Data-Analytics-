{
 "cells": [
  {
   "cell_type": "markdown",
   "id": "5370f21d",
   "metadata": {
    "ExecuteTime": {
     "end_time": "2022-12-18T08:04:15.713512Z",
     "start_time": "2022-12-18T08:04:15.663451Z"
    },
    "tags": []
   },
   "source": [
    "# Вітаю на фінальному проєкті!\n",
    "Протягом курсу ми навчились завантажувати дані в Python, трансформувати їх, чистити, агрегувати, знаходити з допомогою даних відповіді на наші питання, використовувати sql, а також Tableau! \n",
    "Задача фінального проєкту - продемонструвати той рівень роботи з даними, на якому Ви є зараз, показати, що Ви вмі\n",
    "те робити.\n",
    "\n",
    "## Робота з Excel файлом\n",
    "Цей ноутбук буде присвячений аналізу даних з файла `Grocery DataBase.xlsx`. Так, це Excel файл, і ми можемо дуже просто завантажувати дані з нього у Python. Покажу пару команд для роботи з Excel файлом."
   ]
  },
  {
   "cell_type": "markdown",
   "id": "ab4e745e",
   "metadata": {},
   "source": [
    "Для початку встановимо бібліотеку, яка потрібна для роботи з Excel файлами з pandas. Можна встановити тут, або в терміналі, але якщо Ви встановлюєте в терміналі, то після того треба перезапустити ядро (Kernel) ноутбуку, аби бібліотека точно підтягнулась. Іноді підтягується і без того, але це на випадок, що робити, якщо компілятор каже, що її не бачить."
   ]
  },
  {
   "cell_type": "code",
   "execution_count": 1,
   "id": "8260300e",
   "metadata": {
    "ExecuteTime": {
     "end_time": "2024-02-06T21:48:23.179020Z",
     "start_time": "2024-02-06T21:48:15.748309Z"
    },
    "tags": []
   },
   "outputs": [
    {
     "name": "stdout",
     "output_type": "stream",
     "text": [
      "Requirement already satisfied: openpyxl in c:\\users\\tetiana.zalivan\\anaconda3\\lib\\site-packages (3.0.10)\n",
      "Requirement already satisfied: et_xmlfile in c:\\users\\tetiana.zalivan\\anaconda3\\lib\\site-packages (from openpyxl) (1.1.0)\n"
     ]
    }
   ],
   "source": [
    "!pip install openpyxl"
   ]
  },
  {
   "cell_type": "code",
   "execution_count": 2,
   "id": "9f8741e0",
   "metadata": {
    "ExecuteTime": {
     "end_time": "2024-02-06T21:48:28.994898Z",
     "start_time": "2024-02-06T21:48:23.183988Z"
    },
    "tags": []
   },
   "outputs": [],
   "source": [
    "import pandas as pd"
   ]
  },
  {
   "cell_type": "markdown",
   "id": "ee6256e0",
   "metadata": {},
   "source": [
    "Ось так можемо переглянути, які є листки в Excel файлі:"
   ]
  },
  {
   "cell_type": "code",
   "execution_count": 3,
   "id": "2b13dd59",
   "metadata": {
    "ExecuteTime": {
     "end_time": "2024-02-06T21:48:29.001392Z",
     "start_time": "2024-02-06T21:48:28.997667Z"
    },
    "tags": []
   },
   "outputs": [],
   "source": [
    "# замініть на шлях до файлу на своєму комп`ютері\n",
    "path_to_file = '../data/Grocery Database.xlsx'"
   ]
  },
  {
   "cell_type": "code",
   "execution_count": 4,
   "id": "54c01751",
   "metadata": {
    "ExecuteTime": {
     "end_time": "2024-02-06T21:48:42.206650Z",
     "start_time": "2024-02-06T21:48:29.005223Z"
    },
    "scrolled": true,
    "tags": []
   },
   "outputs": [
    {
     "data": {
      "text/plain": [
       "['Grosto DB', 'Sheet2', 'Fact Summary']"
      ]
     },
     "execution_count": 4,
     "metadata": {},
     "output_type": "execute_result"
    }
   ],
   "source": [
    "xl = pd.ExcelFile(path_to_file)\n",
    "xl.sheet_names"
   ]
  },
  {
   "cell_type": "markdown",
   "id": "1ea6884d",
   "metadata": {},
   "source": [
    "А так можемо зчитати конкретний листок:"
   ]
  },
  {
   "cell_type": "code",
   "execution_count": 5,
   "id": "1341eb0b",
   "metadata": {
    "ExecuteTime": {
     "end_time": "2024-02-06T21:48:42.232334Z",
     "start_time": "2024-02-06T21:48:42.209624Z"
    },
    "tags": []
   },
   "outputs": [
    {
     "data": {
      "text/html": [
       "<div>\n",
       "<style scoped>\n",
       "    .dataframe tbody tr th:only-of-type {\n",
       "        vertical-align: middle;\n",
       "    }\n",
       "\n",
       "    .dataframe tbody tr th {\n",
       "        vertical-align: top;\n",
       "    }\n",
       "\n",
       "    .dataframe thead th {\n",
       "        text-align: right;\n",
       "    }\n",
       "</style>\n",
       "<table border=\"1\" class=\"dataframe\">\n",
       "  <thead>\n",
       "    <tr style=\"text-align: right;\">\n",
       "      <th></th>\n",
       "      <th>S.No.</th>\n",
       "      <th>Column Name</th>\n",
       "      <th>Description of the Column names</th>\n",
       "    </tr>\n",
       "  </thead>\n",
       "  <tbody>\n",
       "    <tr>\n",
       "      <th>0</th>\n",
       "      <td>1</td>\n",
       "      <td>Receipt Number</td>\n",
       "      <td>Transaction Number</td>\n",
       "    </tr>\n",
       "    <tr>\n",
       "      <th>1</th>\n",
       "      <td>2</td>\n",
       "      <td>Date</td>\n",
       "      <td>Date of Transaction</td>\n",
       "    </tr>\n",
       "    <tr>\n",
       "      <th>2</th>\n",
       "      <td>3</td>\n",
       "      <td>Year</td>\n",
       "      <td>Year of Transaction</td>\n",
       "    </tr>\n",
       "    <tr>\n",
       "      <th>3</th>\n",
       "      <td>4</td>\n",
       "      <td>Month</td>\n",
       "      <td>Month of Transaction</td>\n",
       "    </tr>\n",
       "    <tr>\n",
       "      <th>4</th>\n",
       "      <td>5</td>\n",
       "      <td>Time</td>\n",
       "      <td>Time of the transaction</td>\n",
       "    </tr>\n",
       "    <tr>\n",
       "      <th>5</th>\n",
       "      <td>6</td>\n",
       "      <td>Mobile Number</td>\n",
       "      <td>Monbile number of the customer</td>\n",
       "    </tr>\n",
       "    <tr>\n",
       "      <th>6</th>\n",
       "      <td>7</td>\n",
       "      <td>Membership ID</td>\n",
       "      <td>Unique Membership ID of the Customer</td>\n",
       "    </tr>\n",
       "    <tr>\n",
       "      <th>7</th>\n",
       "      <td>8</td>\n",
       "      <td>Loyalty Card Points</td>\n",
       "      <td>Loyalty Points earned by customer (10 Points/1...</td>\n",
       "    </tr>\n",
       "    <tr>\n",
       "      <th>8</th>\n",
       "      <td>9</td>\n",
       "      <td>Age</td>\n",
       "      <td>Age of the Customer in the Company Database</td>\n",
       "    </tr>\n",
       "    <tr>\n",
       "      <th>9</th>\n",
       "      <td>10</td>\n",
       "      <td>Gender</td>\n",
       "      <td>Gender of the customer</td>\n",
       "    </tr>\n",
       "    <tr>\n",
       "      <th>10</th>\n",
       "      <td>11</td>\n",
       "      <td>City</td>\n",
       "      <td>City Name of store</td>\n",
       "    </tr>\n",
       "    <tr>\n",
       "      <th>11</th>\n",
       "      <td>12</td>\n",
       "      <td>Country</td>\n",
       "      <td>Country Name of store</td>\n",
       "    </tr>\n",
       "    <tr>\n",
       "      <th>12</th>\n",
       "      <td>13</td>\n",
       "      <td>Category</td>\n",
       "      <td>Category of Item bought by customer</td>\n",
       "    </tr>\n",
       "    <tr>\n",
       "      <th>13</th>\n",
       "      <td>14</td>\n",
       "      <td>Sub_Category</td>\n",
       "      <td>Sub-Category of Item bought by customer</td>\n",
       "    </tr>\n",
       "    <tr>\n",
       "      <th>14</th>\n",
       "      <td>15</td>\n",
       "      <td>Items</td>\n",
       "      <td>Name if the item  bought by customer</td>\n",
       "    </tr>\n",
       "    <tr>\n",
       "      <th>15</th>\n",
       "      <td>16</td>\n",
       "      <td>Brand</td>\n",
       "      <td>Brand of the Item bought</td>\n",
       "    </tr>\n",
       "    <tr>\n",
       "      <th>16</th>\n",
       "      <td>17</td>\n",
       "      <td>Description</td>\n",
       "      <td>Description of the Item (weight/volume/pack si...</td>\n",
       "    </tr>\n",
       "    <tr>\n",
       "      <th>17</th>\n",
       "      <td>18</td>\n",
       "      <td>Price</td>\n",
       "      <td>Price per unit of the Item</td>\n",
       "    </tr>\n",
       "    <tr>\n",
       "      <th>18</th>\n",
       "      <td>19</td>\n",
       "      <td>QTY</td>\n",
       "      <td>Quantity bought by the cistomer</td>\n",
       "    </tr>\n",
       "    <tr>\n",
       "      <th>19</th>\n",
       "      <td>20</td>\n",
       "      <td>DISC</td>\n",
       "      <td>Discount offered by store</td>\n",
       "    </tr>\n",
       "    <tr>\n",
       "      <th>20</th>\n",
       "      <td>21</td>\n",
       "      <td>Net Bill Amount</td>\n",
       "      <td>Amount exclusive of tax payable to customer</td>\n",
       "    </tr>\n",
       "    <tr>\n",
       "      <th>21</th>\n",
       "      <td>22</td>\n",
       "      <td>GST</td>\n",
       "      <td>Tax Payable</td>\n",
       "    </tr>\n",
       "    <tr>\n",
       "      <th>22</th>\n",
       "      <td>23</td>\n",
       "      <td>Gross Bill Amount</td>\n",
       "      <td>Gross Bill to be paid by customer inclusive of...</td>\n",
       "    </tr>\n",
       "    <tr>\n",
       "      <th>23</th>\n",
       "      <td>24</td>\n",
       "      <td>Payment Mode</td>\n",
       "      <td>Mode of payment opted by customer</td>\n",
       "    </tr>\n",
       "    <tr>\n",
       "      <th>24</th>\n",
       "      <td>25</td>\n",
       "      <td>Bank Name</td>\n",
       "      <td>Name of the Bank</td>\n",
       "    </tr>\n",
       "    <tr>\n",
       "      <th>25</th>\n",
       "      <td>26</td>\n",
       "      <td>% Profit Margin</td>\n",
       "      <td>Percentage profit margin of store</td>\n",
       "    </tr>\n",
       "    <tr>\n",
       "      <th>26</th>\n",
       "      <td>27</td>\n",
       "      <td>% Operating Cost</td>\n",
       "      <td>Percentage operating cost of store</td>\n",
       "    </tr>\n",
       "    <tr>\n",
       "      <th>27</th>\n",
       "      <td>28</td>\n",
       "      <td>% Product Cost</td>\n",
       "      <td>Percentage product cost to store</td>\n",
       "    </tr>\n",
       "    <tr>\n",
       "      <th>28</th>\n",
       "      <td>29</td>\n",
       "      <td>Profit Margin</td>\n",
       "      <td>Profit Margin earned by store</td>\n",
       "    </tr>\n",
       "    <tr>\n",
       "      <th>29</th>\n",
       "      <td>30</td>\n",
       "      <td>Operating Cost</td>\n",
       "      <td>Operating cost beared by the store</td>\n",
       "    </tr>\n",
       "    <tr>\n",
       "      <th>30</th>\n",
       "      <td>31</td>\n",
       "      <td>Product Cost</td>\n",
       "      <td>Product Cost for the store</td>\n",
       "    </tr>\n",
       "  </tbody>\n",
       "</table>\n",
       "</div>"
      ],
      "text/plain": [
       "    S.No.          Column Name  \\\n",
       "0       1       Receipt Number   \n",
       "1       2                 Date   \n",
       "2       3                 Year   \n",
       "3       4                Month   \n",
       "4       5                 Time   \n",
       "5       6        Mobile Number   \n",
       "6       7        Membership ID   \n",
       "7       8  Loyalty Card Points   \n",
       "8       9                  Age   \n",
       "9      10               Gender   \n",
       "10     11                 City   \n",
       "11     12              Country   \n",
       "12     13             Category   \n",
       "13     14         Sub_Category   \n",
       "14     15                Items   \n",
       "15     16               Brand    \n",
       "16     17         Description    \n",
       "17     18                Price   \n",
       "18     19                  QTY   \n",
       "19     20                 DISC   \n",
       "20     21      Net Bill Amount   \n",
       "21     22                  GST   \n",
       "22     23    Gross Bill Amount   \n",
       "23     24         Payment Mode   \n",
       "24     25            Bank Name   \n",
       "25     26      % Profit Margin   \n",
       "26     27     % Operating Cost   \n",
       "27     28       % Product Cost   \n",
       "28     29        Profit Margin   \n",
       "29     30       Operating Cost   \n",
       "30     31         Product Cost   \n",
       "\n",
       "                      Description of the Column names  \n",
       "0                                  Transaction Number  \n",
       "1                                 Date of Transaction  \n",
       "2                                 Year of Transaction  \n",
       "3                                Month of Transaction  \n",
       "4                             Time of the transaction  \n",
       "5                      Monbile number of the customer  \n",
       "6                Unique Membership ID of the Customer  \n",
       "7   Loyalty Points earned by customer (10 Points/1...  \n",
       "8         Age of the Customer in the Company Database  \n",
       "9                              Gender of the customer  \n",
       "10                                 City Name of store  \n",
       "11                              Country Name of store  \n",
       "12                Category of Item bought by customer  \n",
       "13            Sub-Category of Item bought by customer  \n",
       "14               Name if the item  bought by customer  \n",
       "15                           Brand of the Item bought  \n",
       "16  Description of the Item (weight/volume/pack si...  \n",
       "17                         Price per unit of the Item  \n",
       "18                    Quantity bought by the cistomer  \n",
       "19                          Discount offered by store  \n",
       "20        Amount exclusive of tax payable to customer  \n",
       "21                                        Tax Payable  \n",
       "22  Gross Bill to be paid by customer inclusive of...  \n",
       "23                  Mode of payment opted by customer  \n",
       "24                                   Name of the Bank  \n",
       "25                  Percentage profit margin of store  \n",
       "26                 Percentage operating cost of store  \n",
       "27                   Percentage product cost to store  \n",
       "28                      Profit Margin earned by store  \n",
       "29                 Operating cost beared by the store  \n",
       "30                         Product Cost for the store  "
      ]
     },
     "execution_count": 5,
     "metadata": {},
     "output_type": "execute_result"
    }
   ],
   "source": [
    "descr = xl.parse('Fact Summary')\n",
    "descr"
   ]
  },
  {
   "cell_type": "markdown",
   "id": "44fe8a1e",
   "metadata": {},
   "source": [
    "Читати дані можна і з Pandas, але тут немає можливості переглянути наявні листки, а також довше відбувається читання даних."
   ]
  },
  {
   "cell_type": "code",
   "execution_count": 6,
   "id": "2fb8f4ad",
   "metadata": {
    "ExecuteTime": {
     "end_time": "2024-02-06T21:49:23.513865Z",
     "start_time": "2024-02-06T21:48:46.769685Z"
    },
    "tags": []
   },
   "outputs": [],
   "source": [
    "df = pd.read_excel(path_to_file)\n"
   ]
  },
  {
   "cell_type": "markdown",
   "id": "93fbe209",
   "metadata": {},
   "source": [
    "В файлі ви знайдете опис колонок і значення.   \n",
    "\n",
    "**Задача**: Уявіть, що Вам дали цей набір даних з питанням \"Що корисного ми можемо з них взяти для розвитку нашого бізнесу?\". То Вам необхідно розказати бізнесу історію про ці дані у форматі\n",
    "1. питання, яке Вас цікавить щодо цих даних як співробітника цього бізнесу, який дуже вболіває за його успіх, \n",
    "2. код для відповіді на це питання\n",
    "3. висновки, які Ви зробили з огляду на результат виконання коду: які рішення ми можемо прийняти щодо подальших кроків в аналізі або які рекомендації Ви б дали бізнесу виходячи з результатів.\n",
    "\n",
    "**Необхідно** \n",
    "\n",
    "1. поставити до даних _мінімум_ 10 бізнес-питань, при цьому зробивши   \n",
    "- початковий аналіз даних: їх розмір, структура, наявність пропущених значень та що з ними зробити, зміна типів даних там, де це доречно зробити (наприклад, якщо колонка завантажилась як тип string, а з опису видно, що там має бути float - варто змінити тип) - ця частина не входить у бізнес-питання, але є необхідною при аналізі даних.  \n",
    "- _мінімум_ 1 зведеної таблиці (pivot) або її аналога\n",
    "- _мінімум_ 5 візуалізацій, 3 з яких мають різний тип (наприклад, scatter plot, line plot, pair plot)\n",
    "- _мінімум_ 1 використання тестування статистичних гіпотез. Наприклад, порівняти, чи стат значимо відрізняється певний цікавий бізнесу показник для чоловіків і жінок. Важливо, що найбільш доречно це буде, якщо той показник, який порівнюємо між групами, справді має доволі незначну різницю. Але потренуватись можна і при наявності значної. Питання тут насправді що таке \"значна\")) І воно залежить від співвідношення розміру середнього і стандартного відхилення.\n",
    "\n",
    "    В даному мінімум-наборі немає вимоги на використання SQL. Але якщо Вам хочеться потренуватись, то Ви можете це зробити скориставшись pandasql. \n",
    "\n",
    "    Питанням може бути як \"Яка є кількість унікальних чеків в цьому наборі даних?\" так і щось значно складніше. Якщо у Вас складне питання, і аби відповісти на нього Ви мали відповісти на 3 менших питання (зробити якісь трансформації над даними, подивитись щось), то це рахується як 3 питання з 10 необхідних у завданні. Звісно ж Ви можете зробити більше за встановлений мінімум - все буде перевірено :)\n",
    "\n",
    "2. Розробити систему метрик для цього бізнесу (що нам цікаво вимірювати) і побудувати Tableau репорт відповідно до системи метрик. Опублікувати Tableau репорт на Tableau public і додати посилання на нього в ноутбуці з описом на кшталт \"Візуалізацію у вигляді інтерактивного репорту даних можна знайти за посиланням\".\n",
    "\n",
    "По закінченню - завантажте ноутбук на git і додаємо посилання на ноутбук в здачу роботи в Kwiga. \n",
    "До речі, з часом, Вам може захотітись доповнити цей ноутбук, коли арсенал Ваших навичок по роботі з даними розшириться. І це буде чудова ідея!\n",
    "\n",
    "**Успіхів!**"
   ]
  },
  {
   "cell_type": "markdown",
   "id": "da3964eb-bc45-4cbb-9fc5-843334971798",
   "metadata": {
    "tags": []
   },
   "source": [
    "# Data Overview and Cleaning"
   ]
  },
  {
   "cell_type": "code",
   "execution_count": 7,
   "id": "06dabb90-7666-44d5-943f-e3f0ed140a2a",
   "metadata": {
    "tags": []
   },
   "outputs": [],
   "source": [
    "# All the cleaning and analysis I prefer to do in the copy of the origin df\n",
    "cleaned_df = df.copy()"
   ]
  },
  {
   "cell_type": "code",
   "execution_count": 8,
   "id": "55703ba0-deaa-41b5-8249-a99ca8c9fd89",
   "metadata": {
    "tags": []
   },
   "outputs": [
    {
     "name": "stdout",
     "output_type": "stream",
     "text": [
      "<class 'pandas.core.frame.DataFrame'>\n",
      "RangeIndex: 50447 entries, 0 to 50446\n",
      "Data columns (total 32 columns):\n",
      " #   Column               Non-Null Count  Dtype         \n",
      "---  ------               --------------  -----         \n",
      " 0   Receipt Number       50447 non-null  object        \n",
      " 1   Date                 50447 non-null  datetime64[ns]\n",
      " 2   Year                 50447 non-null  int64         \n",
      " 3   Month                50447 non-null  int64         \n",
      " 4   Time                 50447 non-null  object        \n",
      " 5   Mobile Number        50447 non-null  int64         \n",
      " 6   Membership ID        50447 non-null  object        \n",
      " 7   Loyalty Card Points  50447 non-null  int64         \n",
      " 8   Age                  50447 non-null  int64         \n",
      " 9   Gender               50447 non-null  object        \n",
      " 10  City                 50447 non-null  object        \n",
      " 11  Country              50447 non-null  object        \n",
      " 12  Category             50447 non-null  object        \n",
      " 13  Sub_Category         50447 non-null  object        \n",
      " 14  Items                50447 non-null  object        \n",
      " 15  Brand                50447 non-null  object        \n",
      " 16  Description          50447 non-null  object        \n",
      " 17  Price                50447 non-null  float64       \n",
      " 18  QTY                  50447 non-null  int64         \n",
      " 19  DISC                 50447 non-null  float64       \n",
      " 20  Amount               50447 non-null  float64       \n",
      " 21  Net Bill Amount      50447 non-null  float64       \n",
      " 22  GST                  50447 non-null  float64       \n",
      " 23  Gross Bill Amount    50447 non-null  float64       \n",
      " 24  Payment Mode         50447 non-null  object        \n",
      " 25  Bank Name            50447 non-null  object        \n",
      " 26  % Profit Margin      50447 non-null  float64       \n",
      " 27  % Operating Cost     50447 non-null  float64       \n",
      " 28  % Product Cost       50447 non-null  float64       \n",
      " 29  Profit Margin        50447 non-null  float64       \n",
      " 30  Operating Cost       50447 non-null  float64       \n",
      " 31  Product Cost         50447 non-null  float64       \n",
      "dtypes: datetime64[ns](1), float64(12), int64(6), object(13)\n",
      "memory usage: 12.3+ MB\n",
      "None\n"
     ]
    }
   ],
   "source": [
    "#View and check: type, column names, data size and null values\n",
    "print(cleaned_df.info())"
   ]
  },
  {
   "cell_type": "code",
   "execution_count": 9,
   "id": "944ed0cc-f28b-4ce1-a781-d6b2be1998c4",
   "metadata": {
    "tags": []
   },
   "outputs": [
    {
     "data": {
      "text/html": [
       "<div>\n",
       "<style scoped>\n",
       "    .dataframe tbody tr th:only-of-type {\n",
       "        vertical-align: middle;\n",
       "    }\n",
       "\n",
       "    .dataframe tbody tr th {\n",
       "        vertical-align: top;\n",
       "    }\n",
       "\n",
       "    .dataframe thead th {\n",
       "        text-align: right;\n",
       "    }\n",
       "</style>\n",
       "<table border=\"1\" class=\"dataframe\">\n",
       "  <thead>\n",
       "    <tr style=\"text-align: right;\">\n",
       "      <th></th>\n",
       "      <th>Receipt Number</th>\n",
       "      <th>Date</th>\n",
       "      <th>Year</th>\n",
       "      <th>Month</th>\n",
       "      <th>Time</th>\n",
       "      <th>Mobile Number</th>\n",
       "      <th>Membership ID</th>\n",
       "      <th>Loyalty Card Points</th>\n",
       "      <th>Age</th>\n",
       "      <th>Gender</th>\n",
       "      <th>City</th>\n",
       "      <th>Country</th>\n",
       "      <th>Category</th>\n",
       "      <th>Sub_Category</th>\n",
       "      <th>Items</th>\n",
       "      <th>Brand</th>\n",
       "      <th>Description</th>\n",
       "      <th>Price</th>\n",
       "      <th>QTY</th>\n",
       "      <th>DISC</th>\n",
       "      <th>Amount</th>\n",
       "      <th>Net Bill Amount</th>\n",
       "      <th>GST</th>\n",
       "      <th>Gross Bill Amount</th>\n",
       "      <th>Payment Mode</th>\n",
       "      <th>Bank Name</th>\n",
       "      <th>% Profit Margin</th>\n",
       "      <th>% Operating Cost</th>\n",
       "      <th>% Product Cost</th>\n",
       "      <th>Profit Margin</th>\n",
       "      <th>Operating Cost</th>\n",
       "      <th>Product Cost</th>\n",
       "    </tr>\n",
       "  </thead>\n",
       "  <tbody>\n",
       "    <tr>\n",
       "      <th>0</th>\n",
       "      <td>GIJ00001</td>\n",
       "      <td>2016-01-02</td>\n",
       "      <td>2016</td>\n",
       "      <td>1</td>\n",
       "      <td>10:08:03.260000</td>\n",
       "      <td>9793548581</td>\n",
       "      <td>MIDID0001</td>\n",
       "      <td>1</td>\n",
       "      <td>36</td>\n",
       "      <td>Male</td>\n",
       "      <td>Jakarta</td>\n",
       "      <td>Indonesia</td>\n",
       "      <td>Choco, Snacks, Sweets</td>\n",
       "      <td>Biscuits &amp; Crackers</td>\n",
       "      <td>Oreo mini oreo sharepack</td>\n",
       "      <td>Oreo</td>\n",
       "      <td>540 g</td>\n",
       "      <td>3.09</td>\n",
       "      <td>4</td>\n",
       "      <td>0.02</td>\n",
       "      <td>12.1128</td>\n",
       "      <td>12.1128</td>\n",
       "      <td>0.1</td>\n",
       "      <td>13.32408</td>\n",
       "      <td>Card</td>\n",
       "      <td>Enterprise Bank</td>\n",
       "      <td>0.150</td>\n",
       "      <td>0.15</td>\n",
       "      <td>0.700</td>\n",
       "      <td>1.85400</td>\n",
       "      <td>1.8540</td>\n",
       "      <td>8.65200</td>\n",
       "    </tr>\n",
       "    <tr>\n",
       "      <th>1</th>\n",
       "      <td>GIJ00002</td>\n",
       "      <td>2016-01-02</td>\n",
       "      <td>2016</td>\n",
       "      <td>1</td>\n",
       "      <td>15:46:50.832000</td>\n",
       "      <td>9938441276</td>\n",
       "      <td>MIDID0002</td>\n",
       "      <td>2</td>\n",
       "      <td>54</td>\n",
       "      <td>Male</td>\n",
       "      <td>Jakarta</td>\n",
       "      <td>Indonesia</td>\n",
       "      <td>Wines, Beers &amp; Spirits</td>\n",
       "      <td>Beer</td>\n",
       "      <td>Ashai Lager Beer</td>\n",
       "      <td>Ashai</td>\n",
       "      <td>480 ml</td>\n",
       "      <td>11.60</td>\n",
       "      <td>2</td>\n",
       "      <td>0.01</td>\n",
       "      <td>22.9680</td>\n",
       "      <td>22.9680</td>\n",
       "      <td>0.1</td>\n",
       "      <td>25.26480</td>\n",
       "      <td>Card</td>\n",
       "      <td>Philippine Veterans Bank</td>\n",
       "      <td>0.118</td>\n",
       "      <td>0.15</td>\n",
       "      <td>0.732</td>\n",
       "      <td>2.73760</td>\n",
       "      <td>3.4800</td>\n",
       "      <td>16.98240</td>\n",
       "    </tr>\n",
       "    <tr>\n",
       "      <th>2</th>\n",
       "      <td>GIJ00003</td>\n",
       "      <td>2016-01-02</td>\n",
       "      <td>2016</td>\n",
       "      <td>1</td>\n",
       "      <td>11:28:52.166000</td>\n",
       "      <td>9976742552</td>\n",
       "      <td>MIDID0003</td>\n",
       "      <td>1</td>\n",
       "      <td>16</td>\n",
       "      <td>Female</td>\n",
       "      <td>Jakarta</td>\n",
       "      <td>Indonesia</td>\n",
       "      <td>Fruit &amp; Vegetable</td>\n",
       "      <td>Frozen Fruits</td>\n",
       "      <td>Cascadian farm organic strawberries</td>\n",
       "      <td>Cascadiam Farm</td>\n",
       "      <td>1 Kg</td>\n",
       "      <td>13.31</td>\n",
       "      <td>1</td>\n",
       "      <td>0.01</td>\n",
       "      <td>13.1769</td>\n",
       "      <td>38.3526</td>\n",
       "      <td>0.1</td>\n",
       "      <td>42.18786</td>\n",
       "      <td>Cash</td>\n",
       "      <td>BDO Unibank</td>\n",
       "      <td>0.147</td>\n",
       "      <td>0.15</td>\n",
       "      <td>0.703</td>\n",
       "      <td>1.95657</td>\n",
       "      <td>1.9965</td>\n",
       "      <td>9.35693</td>\n",
       "    </tr>\n",
       "  </tbody>\n",
       "</table>\n",
       "</div>"
      ],
      "text/plain": [
       "  Receipt Number       Date  Year  Month             Time  Mobile Number  \\\n",
       "0       GIJ00001 2016-01-02  2016      1  10:08:03.260000     9793548581   \n",
       "1       GIJ00002 2016-01-02  2016      1  15:46:50.832000     9938441276   \n",
       "2       GIJ00003 2016-01-02  2016      1  11:28:52.166000     9976742552   \n",
       "\n",
       "  Membership ID  Loyalty Card Points  Age  Gender     City    Country  \\\n",
       "0     MIDID0001                    1   36    Male  Jakarta  Indonesia   \n",
       "1     MIDID0002                    2   54    Male  Jakarta  Indonesia   \n",
       "2     MIDID0003                    1   16  Female  Jakarta  Indonesia   \n",
       "\n",
       "                 Category         Sub_Category  \\\n",
       "0   Choco, Snacks, Sweets  Biscuits & Crackers   \n",
       "1  Wines, Beers & Spirits                 Beer   \n",
       "2       Fruit & Vegetable        Frozen Fruits   \n",
       "\n",
       "                                 Items          Brand  Description   Price  \\\n",
       "0             Oreo mini oreo sharepack            Oreo        540 g   3.09   \n",
       "1                     Ashai Lager Beer           Ashai       480 ml  11.60   \n",
       "2  Cascadian farm organic strawberries  Cascadiam Farm         1 Kg  13.31   \n",
       "\n",
       "   QTY  DISC   Amount  Net Bill Amount  GST  Gross Bill Amount Payment Mode  \\\n",
       "0    4  0.02  12.1128          12.1128  0.1           13.32408         Card   \n",
       "1    2  0.01  22.9680          22.9680  0.1           25.26480         Card   \n",
       "2    1  0.01  13.1769          38.3526  0.1           42.18786         Cash   \n",
       "\n",
       "                  Bank Name  % Profit Margin  % Operating Cost  \\\n",
       "0           Enterprise Bank            0.150              0.15   \n",
       "1  Philippine Veterans Bank            0.118              0.15   \n",
       "2               BDO Unibank            0.147              0.15   \n",
       "\n",
       "   % Product Cost  Profit Margin  Operating Cost  Product Cost  \n",
       "0           0.700        1.85400          1.8540       8.65200  \n",
       "1           0.732        2.73760          3.4800      16.98240  \n",
       "2           0.703        1.95657          1.9965       9.35693  "
      ]
     },
     "metadata": {},
     "output_type": "display_data"
    }
   ],
   "source": [
    "#Display all columns for the first 3 rows\n",
    "with pd.option_context('display.max_columns', None):\n",
    "    display(cleaned_df[:3])"
   ]
  },
  {
   "cell_type": "markdown",
   "id": "f579df44-5595-4eb6-bd2d-90e51e79ec65",
   "metadata": {
    "tags": []
   },
   "source": [
    "## Data check and editing"
   ]
  },
  {
   "cell_type": "code",
   "execution_count": 10,
   "id": "dbfaf591-36f2-4009-bfe6-33c9dd3867b5",
   "metadata": {
    "tags": []
   },
   "outputs": [],
   "source": [
    "import datetime"
   ]
  },
  {
   "cell_type": "code",
   "execution_count": 38,
   "id": "cbd9f533-4868-483b-a552-c8443f7df8c7",
   "metadata": {
    "tags": []
   },
   "outputs": [
    {
     "data": {
      "text/html": [
       "<div>\n",
       "<style scoped>\n",
       "    .dataframe tbody tr th:only-of-type {\n",
       "        vertical-align: middle;\n",
       "    }\n",
       "\n",
       "    .dataframe tbody tr th {\n",
       "        vertical-align: top;\n",
       "    }\n",
       "\n",
       "    .dataframe thead th {\n",
       "        text-align: right;\n",
       "    }\n",
       "</style>\n",
       "<table border=\"1\" class=\"dataframe\">\n",
       "  <thead>\n",
       "    <tr style=\"text-align: right;\">\n",
       "      <th></th>\n",
       "      <th>Receipt Number</th>\n",
       "      <th>Date</th>\n",
       "      <th>Year</th>\n",
       "      <th>Month</th>\n",
       "      <th>Time</th>\n",
       "      <th>Mobile Number</th>\n",
       "      <th>Membership ID</th>\n",
       "      <th>Loyalty Card Points</th>\n",
       "      <th>Age</th>\n",
       "      <th>Gender</th>\n",
       "      <th>...</th>\n",
       "      <th>Gross Bill Amount</th>\n",
       "      <th>Payment Mode</th>\n",
       "      <th>Bank Name</th>\n",
       "      <th>% Profit Margin</th>\n",
       "      <th>% Operating Cost</th>\n",
       "      <th>% Product Cost</th>\n",
       "      <th>Profit Margin</th>\n",
       "      <th>Operating Cost</th>\n",
       "      <th>Product Cost</th>\n",
       "      <th>Standardized_Time</th>\n",
       "    </tr>\n",
       "  </thead>\n",
       "  <tbody>\n",
       "    <tr>\n",
       "      <th>32664</th>\n",
       "      <td>GSB00094</td>\n",
       "      <td>2016-02-12</td>\n",
       "      <td>2016</td>\n",
       "      <td>2</td>\n",
       "      <td>14:01:00.088000</td>\n",
       "      <td>9853108031</td>\n",
       "      <td>MIDSG0091</td>\n",
       "      <td>2</td>\n",
       "      <td>60</td>\n",
       "      <td>Female</td>\n",
       "      <td>...</td>\n",
       "      <td>8.41662</td>\n",
       "      <td>Cash</td>\n",
       "      <td>ING Bank</td>\n",
       "      <td>0.093</td>\n",
       "      <td>0.15</td>\n",
       "      <td>0.757</td>\n",
       "      <td>0.38502</td>\n",
       "      <td>0.621</td>\n",
       "      <td>3.13398</td>\n",
       "      <td>14:01</td>\n",
       "    </tr>\n",
       "  </tbody>\n",
       "</table>\n",
       "<p>1 rows × 33 columns</p>\n",
       "</div>"
      ],
      "text/plain": [
       "      Receipt Number       Date  Year  Month             Time  Mobile Number  \\\n",
       "32664       GSB00094 2016-02-12  2016      2  14:01:00.088000     9853108031   \n",
       "\n",
       "      Membership ID  Loyalty Card Points  Age  Gender  ... Gross Bill Amount  \\\n",
       "32664     MIDSG0091                    2   60  Female  ...           8.41662   \n",
       "\n",
       "      Payment Mode Bank Name % Profit Margin % Operating Cost % Product Cost  \\\n",
       "32664         Cash  ING Bank           0.093             0.15          0.757   \n",
       "\n",
       "      Profit Margin  Operating Cost  Product Cost  Standardized_Time  \n",
       "32664       0.38502           0.621       3.13398              14:01  \n",
       "\n",
       "[1 rows x 33 columns]"
      ]
     },
     "execution_count": 38,
     "metadata": {},
     "output_type": "execute_result"
    }
   ],
   "source": [
    "cleaned_df[cleaned_df.duplicated()]  #duplicates check"
   ]
  },
  {
   "cell_type": "code",
   "execution_count": 39,
   "id": "e80ee048-8b06-4fd1-a462-6cd55f07be68",
   "metadata": {
    "tags": []
   },
   "outputs": [
    {
     "data": {
      "text/html": [
       "<div>\n",
       "<style scoped>\n",
       "    .dataframe tbody tr th:only-of-type {\n",
       "        vertical-align: middle;\n",
       "    }\n",
       "\n",
       "    .dataframe tbody tr th {\n",
       "        vertical-align: top;\n",
       "    }\n",
       "\n",
       "    .dataframe thead th {\n",
       "        text-align: right;\n",
       "    }\n",
       "</style>\n",
       "<table border=\"1\" class=\"dataframe\">\n",
       "  <thead>\n",
       "    <tr style=\"text-align: right;\">\n",
       "      <th></th>\n",
       "      <th>Receipt Number</th>\n",
       "      <th>Date</th>\n",
       "      <th>Year</th>\n",
       "      <th>Month</th>\n",
       "      <th>Time</th>\n",
       "      <th>Mobile Number</th>\n",
       "      <th>Membership ID</th>\n",
       "      <th>Loyalty Card Points</th>\n",
       "      <th>Age</th>\n",
       "      <th>Gender</th>\n",
       "      <th>City</th>\n",
       "      <th>Country</th>\n",
       "      <th>Category</th>\n",
       "      <th>Sub_Category</th>\n",
       "      <th>Items</th>\n",
       "      <th>Brand</th>\n",
       "      <th>Description</th>\n",
       "      <th>Price</th>\n",
       "      <th>QTY</th>\n",
       "      <th>DISC</th>\n",
       "      <th>Amount</th>\n",
       "      <th>Net Bill Amount</th>\n",
       "      <th>GST</th>\n",
       "      <th>Gross Bill Amount</th>\n",
       "      <th>Payment Mode</th>\n",
       "      <th>Bank Name</th>\n",
       "      <th>% Profit Margin</th>\n",
       "      <th>% Operating Cost</th>\n",
       "      <th>% Product Cost</th>\n",
       "      <th>Profit Margin</th>\n",
       "      <th>Operating Cost</th>\n",
       "      <th>Product Cost</th>\n",
       "      <th>Standardized_Time</th>\n",
       "    </tr>\n",
       "  </thead>\n",
       "  <tbody>\n",
       "    <tr>\n",
       "      <th>32663</th>\n",
       "      <td>GSB00094</td>\n",
       "      <td>2016-02-12</td>\n",
       "      <td>2016</td>\n",
       "      <td>2</td>\n",
       "      <td>14:01:00.088000</td>\n",
       "      <td>9853108031</td>\n",
       "      <td>MIDSG0091</td>\n",
       "      <td>2</td>\n",
       "      <td>60</td>\n",
       "      <td>Female</td>\n",
       "      <td>Bedok</td>\n",
       "      <td>Singapore</td>\n",
       "      <td>Choco, Snacks, Sweets</td>\n",
       "      <td>snacks</td>\n",
       "      <td>Tostitos medium chunky salsa</td>\n",
       "      <td>Tostitos</td>\n",
       "      <td>270 g</td>\n",
       "      <td>4.14</td>\n",
       "      <td>1</td>\n",
       "      <td>0.05</td>\n",
       "      <td>3.933</td>\n",
       "      <td>7.866</td>\n",
       "      <td>0.07</td>\n",
       "      <td>8.41662</td>\n",
       "      <td>Cash</td>\n",
       "      <td>ING Bank</td>\n",
       "      <td>0.093</td>\n",
       "      <td>0.15</td>\n",
       "      <td>0.757</td>\n",
       "      <td>0.38502</td>\n",
       "      <td>0.621</td>\n",
       "      <td>3.13398</td>\n",
       "      <td>14:01</td>\n",
       "    </tr>\n",
       "    <tr>\n",
       "      <th>32664</th>\n",
       "      <td>GSB00094</td>\n",
       "      <td>2016-02-12</td>\n",
       "      <td>2016</td>\n",
       "      <td>2</td>\n",
       "      <td>14:01:00.088000</td>\n",
       "      <td>9853108031</td>\n",
       "      <td>MIDSG0091</td>\n",
       "      <td>2</td>\n",
       "      <td>60</td>\n",
       "      <td>Female</td>\n",
       "      <td>Bedok</td>\n",
       "      <td>Singapore</td>\n",
       "      <td>Choco, Snacks, Sweets</td>\n",
       "      <td>snacks</td>\n",
       "      <td>Tostitos medium chunky salsa</td>\n",
       "      <td>Tostitos</td>\n",
       "      <td>270 g</td>\n",
       "      <td>4.14</td>\n",
       "      <td>1</td>\n",
       "      <td>0.05</td>\n",
       "      <td>3.933</td>\n",
       "      <td>7.866</td>\n",
       "      <td>0.07</td>\n",
       "      <td>8.41662</td>\n",
       "      <td>Cash</td>\n",
       "      <td>ING Bank</td>\n",
       "      <td>0.093</td>\n",
       "      <td>0.15</td>\n",
       "      <td>0.757</td>\n",
       "      <td>0.38502</td>\n",
       "      <td>0.621</td>\n",
       "      <td>3.13398</td>\n",
       "      <td>14:01</td>\n",
       "    </tr>\n",
       "  </tbody>\n",
       "</table>\n",
       "</div>"
      ],
      "text/plain": [
       "      Receipt Number       Date  Year  Month             Time  Mobile Number  \\\n",
       "32663       GSB00094 2016-02-12  2016      2  14:01:00.088000     9853108031   \n",
       "32664       GSB00094 2016-02-12  2016      2  14:01:00.088000     9853108031   \n",
       "\n",
       "      Membership ID  Loyalty Card Points  Age  Gender   City    Country  \\\n",
       "32663     MIDSG0091                    2   60  Female  Bedok  Singapore   \n",
       "32664     MIDSG0091                    2   60  Female  Bedok  Singapore   \n",
       "\n",
       "                    Category Sub_Category                         Items  \\\n",
       "32663  Choco, Snacks, Sweets       snacks  Tostitos medium chunky salsa   \n",
       "32664  Choco, Snacks, Sweets       snacks  Tostitos medium chunky salsa   \n",
       "\n",
       "          Brand Description  Price  QTY  DISC  Amount  Net Bill Amount   GST  \\\n",
       "32663  Tostitos       270 g   4.14    1  0.05   3.933            7.866  0.07   \n",
       "32664  Tostitos       270 g   4.14    1  0.05   3.933            7.866  0.07   \n",
       "\n",
       "       Gross Bill Amount Payment Mode Bank Name  % Profit Margin  \\\n",
       "32663            8.41662         Cash  ING Bank            0.093   \n",
       "32664            8.41662         Cash  ING Bank            0.093   \n",
       "\n",
       "       % Operating Cost  % Product Cost  Profit Margin  Operating Cost  \\\n",
       "32663              0.15           0.757        0.38502           0.621   \n",
       "32664              0.15           0.757        0.38502           0.621   \n",
       "\n",
       "       Product Cost Standardized_Time  \n",
       "32663       3.13398             14:01  \n",
       "32664       3.13398             14:01  "
      ]
     },
     "metadata": {},
     "output_type": "display_data"
    }
   ],
   "source": [
    "with pd.option_context('display.max_columns', None):\n",
    "    display(cleaned_df[cleaned_df['Receipt Number'] == \"GSB00094\"])\n",
    "# 2 same goods bought at the same time, not a duplicate"
   ]
  },
  {
   "cell_type": "code",
   "execution_count": 19,
   "id": "8cc044aa-2caa-46b2-97be-b374d83d8dfc",
   "metadata": {
    "tags": []
   },
   "outputs": [],
   "source": [
    "#Create column with HH:MM\n",
    "cleaned_df['Standardized_Time'] = pd.to_datetime(cleaned_df['Time'], errors='coerce', format='%I:%M:%S %p').dt.strftime('%H:%M').fillna(\n",
    "    pd.to_datetime(cleaned_df['Time'], errors='coerce', format='%H:%M:%S.%f').dt.strftime('%H:%M')\n",
    ")\n",
    "# Handle any remaining time values that may not be parsed (42 NaN values)\n",
    "cleaned_df['Standardized_Time'] = cleaned_df['Standardized_Time'].fillna(cleaned_df['Time'].astype(str).str[:5])\n"
   ]
  },
  {
   "cell_type": "code",
   "execution_count": 116,
   "id": "b2340f15-bc94-4a4c-b9c2-80abf39755a3",
   "metadata": {
    "tags": []
   },
   "outputs": [],
   "source": [
    "cleaned_df.columns = cleaned_df.columns.str.strip()   # clean columns whitespace\n",
    "cleaned_df.columns = cleaned_df.columns.str.replace(' ', '_') #cleaner column names"
   ]
  },
  {
   "cell_type": "code",
   "execution_count": 99,
   "id": "f596231f-02c8-46e0-8af0-1e9321a625ba",
   "metadata": {
    "tags": []
   },
   "outputs": [],
   "source": [
    "#Data storage optimization, no need to store duplicate names as objects\n",
    "cleaned_df[['Membership_ID', 'Gender', 'City', 'Country', 'Category', 'Sub_Category', 'Items', 'Brand','Payment_Mode', 'Bank_Name']] = cleaned_df[['Membership_ID', 'Gender', 'City', 'Country', 'Category', 'Sub_Category', 'Items','Brand',  'Payment_Mode', 'Bank_Name']].astype('category')\n"
   ]
  },
  {
   "cell_type": "code",
   "execution_count": 126,
   "id": "e21fe814-040c-4c44-832e-e3745230add8",
   "metadata": {
    "tags": []
   },
   "outputs": [
    {
     "name": "stdout",
     "output_type": "stream",
     "text": [
      "Age Range: 15 - 75\n",
      "Amount Range: 0.8 - 299.83\n",
      "Year Range: 2016 - 2019\n",
      "DISC Range: 0.01 - 0.05\n",
      "Price Range: 0.84 - 40.33\n",
      "QTY Range: 1 - 9\n",
      "GST Range: 0.06 - 0.12\n",
      "Gross_Bill_Amount Range: 1.04 - 559.33\n",
      "Profit_Margin Range: 0.07 - 26.23\n",
      "Operating_Cost Range: 0.13 - 46.85\n",
      "Net_Bill_Amount Range: 0.98 - 527.67\n",
      "Product_Cost Range: 0.61 - 239.24\n",
      "%_Profit_Margin Range: 0.05 - 0.15\n",
      "%_Product_Cost Range: 0.7 - 0.8\n",
      "%_Operating_Cost Range: 0.15 - 0.15\n",
      "['Male' 'Female']\n"
     ]
    }
   ],
   "source": [
    "#Reasonable ranges check\n",
    "\n",
    "# Function to print the range of a numeric column with optional rounding\n",
    "def print_range(column_name, round_digits=None):\n",
    "    min_value = cleaned_df[column_name].min()\n",
    "    max_value = cleaned_df[column_name].max()\n",
    "    if round_digits is not None:\n",
    "        min_value = round(min_value, round_digits)\n",
    "        max_value = round(max_value, round_digits)\n",
    "    print(f\"{column_name} Range: {min_value} - {max_value}\")\n",
    "\n",
    "\n",
    "print_range('Age')\n",
    "print_range('Amount', 2)\n",
    "print_range('Year')\n",
    "print_range('DISC', 2)\n",
    "print_range('Price', 2)\n",
    "print_range('QTY')\n",
    "print_range('GST', 2)\n",
    "print_range('Gross_Bill_Amount', 2)\n",
    "print_range('Profit_Margin', 2)\n",
    "print_range('Operating_Cost', 2)\n",
    "print_range('Net_Bill_Amount', 2)\n",
    "print_range('Product_Cost', 2)\n",
    "print_range('%_Profit_Margin', 2)\n",
    "print_range('%_Product_Cost', 2)\n",
    "print_range('%_Operating_Cost', 2)\n",
    "\n",
    "print(cleaned_df['Gender'].astype('str').unique())\n"
   ]
  },
  {
   "cell_type": "code",
   "execution_count": 122,
   "id": "f7d23e72-0347-452e-afaf-265f0b2ac3a4",
   "metadata": {
    "tags": []
   },
   "outputs": [
    {
     "name": "stdout",
     "output_type": "stream",
     "text": [
      "Age Range: 15 - 75\n",
      "Amount Range: 0.8 - 299.83\n",
      "Year Range: 2016 - 2019\n",
      "DISC Range: 0.01 - 0.05\n",
      "Price Range: 0.84 - 40.33\n",
      "QTY Range: 1 - 9\n",
      "Net_Bill_Amount Range: 0.98 - 527.67\n",
      "GST Range: 0.06 - 0.12\n"
     ]
    }
   ],
   "source": [
    "\n"
   ]
  },
  {
   "cell_type": "code",
   "execution_count": 121,
   "id": "36e813eb-973b-4644-9384-1d4f6f8eb4b7",
   "metadata": {
    "tags": []
   },
   "outputs": [
    {
     "data": {
      "text/plain": [
       "Net_Bill_Amount      True\n",
       "Gross_Bill_Amount    True\n",
       "Profit_Margin        True\n",
       "Operating_Cost       True\n",
       "Product_Cost         True\n",
       "dtype: bool"
      ]
     },
     "execution_count": 121,
     "metadata": {},
     "output_type": "execute_result"
    }
   ],
   "source": [
    "columns_to_check = ['Net_Bill_Amount', 'Gross_Bill_Amount', 'Profit_Margin', 'Operating_Cost', 'Product_Cost']\n",
    "checks = (cleaned_df[columns_to_check] > 0).all()\n",
    "checks"
   ]
  },
  {
   "cell_type": "markdown",
   "id": "21529feb-4e03-4e90-91b1-75b8db9166ac",
   "metadata": {},
   "source": [
    "## Calculatins check"
   ]
  },
  {
   "cell_type": "markdown",
   "id": "2f787c62-fb02-4d9b-b0c3-cd24d018fce2",
   "metadata": {
    "tags": []
   },
   "source": [
    "Assuming that the values for Price, QTY, DISC,GST and Amount are correct and beyond our control, we can proceed with validation checks for the calculated columns."
   ]
  },
  {
   "cell_type": "code",
   "execution_count": 111,
   "id": "063de1d0-6ccd-4f6a-9415-96634bef22b4",
   "metadata": {
    "tags": []
   },
   "outputs": [
    {
     "name": "stdout",
     "output_type": "stream",
     "text": [
      "Net Bill Amount Check: 46441 discrepancies found\n",
      "      Receipt_Number  Net_Bill_Amount  Calculated_Net_Bill_Amount\n",
      "2           GIJ00003          38.3526                     13.1769\n",
      "3           GIJ00003          38.3526                      3.4848\n",
      "4           GIJ00003          38.3526                      4.3659\n",
      "5           GIJ00003          38.3526                      2.7819\n",
      "6           GIJ00003          38.3526                      3.2472\n",
      "...              ...              ...                         ...\n",
      "50441       GSW01533          74.1664                     20.3840\n",
      "50442       GSW01533          74.1664                      6.0760\n",
      "50444       GSW01535          14.0184                      3.9303\n",
      "50445       GSW01535          14.0184                      4.0590\n",
      "50446       GSW01535          14.0184                      6.0291\n",
      "\n",
      "[46441 rows x 3 columns]\n"
     ]
    }
   ],
   "source": [
    "# Calculate the expected Net Bill Amount\n",
    "cleaned_df['Calculated_Net_Bill_Amount'] = cleaned_df['Price'] * cleaned_df['QTY'] * (1 - cleaned_df['DISC'])\n",
    "\n",
    "# Compare with the existing Net Bill Amount\n",
    "net_bill_check = cleaned_df[abs(cleaned_df['Net_Bill_Amount'] - cleaned_df['Calculated_Net_Bill_Amount']) > 1e-6]\n",
    "\n",
    "print(f\"Net Bill Amount Check: {len(net_bill_check)} discrepancies found\")\n",
    "if not net_bill_check.empty:\n",
    "    print(net_bill_check[['Receipt_Number', 'Net_Bill_Amount', 'Calculated_Net_Bill_Amount']])\n",
    "\n"
   ]
  },
  {
   "cell_type": "code",
   "execution_count": null,
   "id": "c9cbf569-a7b5-482f-bfb5-52624e8a76fc",
   "metadata": {},
   "outputs": [],
   "source": []
  },
  {
   "cell_type": "code",
   "execution_count": null,
   "id": "54874fc7-0433-4db6-ad96-09c201f8c124",
   "metadata": {},
   "outputs": [],
   "source": []
  },
  {
   "cell_type": "code",
   "execution_count": null,
   "id": "3304b6af-7436-4fbd-a365-aa99ba1f3241",
   "metadata": {},
   "outputs": [],
   "source": []
  },
  {
   "cell_type": "markdown",
   "id": "d67ef790-28de-4522-9442-3a987007fbba",
   "metadata": {
    "tags": []
   },
   "source": [
    "## Final Check before Analysis"
   ]
  },
  {
   "cell_type": "code",
   "execution_count": 106,
   "id": "ca9a9917-1aab-4fa3-89e9-9200240b8720",
   "metadata": {
    "tags": []
   },
   "outputs": [
    {
     "name": "stdout",
     "output_type": "stream",
     "text": [
      "<class 'pandas.core.frame.DataFrame'>\n",
      "RangeIndex: 50447 entries, 0 to 50446\n",
      "Data columns (total 34 columns):\n",
      " #   Column                      Non-Null Count  Dtype         \n",
      "---  ------                      --------------  -----         \n",
      " 0   Receipt_Number              50447 non-null  object        \n",
      " 1   Date                        50447 non-null  datetime64[ns]\n",
      " 2   Year                        50447 non-null  int64         \n",
      " 3   Month                       50447 non-null  int64         \n",
      " 4   Time                        50447 non-null  object        \n",
      " 5   Mobile_Number               50447 non-null  int64         \n",
      " 6   Membership_ID               50447 non-null  category      \n",
      " 7   Loyalty_Card_Points         50447 non-null  int64         \n",
      " 8   Age                         50447 non-null  int64         \n",
      " 9   Gender                      50447 non-null  category      \n",
      " 10  City                        50447 non-null  category      \n",
      " 11  Country                     50447 non-null  category      \n",
      " 12  Category                    50447 non-null  category      \n",
      " 13  Sub_Category                50447 non-null  category      \n",
      " 14  Items                       50447 non-null  category      \n",
      " 15  Brand                       50447 non-null  category      \n",
      " 16  Description                 50447 non-null  object        \n",
      " 17  Price                       50447 non-null  float64       \n",
      " 18  QTY                         50447 non-null  int64         \n",
      " 19  DISC                        50447 non-null  float64       \n",
      " 20  Amount                      50447 non-null  float64       \n",
      " 21  Net_Bill_Amount             50447 non-null  float64       \n",
      " 22  GST                         50447 non-null  float64       \n",
      " 23  Gross_Bill_Amount           50447 non-null  float64       \n",
      " 24  Payment_Mode                50447 non-null  category      \n",
      " 25  Bank_Name                   50447 non-null  category      \n",
      " 26  %_Profit_Margin             50447 non-null  float64       \n",
      " 27  %_Operating_Cost            50447 non-null  float64       \n",
      " 28  %_Product_Cost              50447 non-null  float64       \n",
      " 29  Profit_Margin               50447 non-null  float64       \n",
      " 30  Operating_Cost              50447 non-null  float64       \n",
      " 31  Product_Cost                50447 non-null  float64       \n",
      " 32  Standardized_Time           50447 non-null  object        \n",
      " 33  Calculated_Net_Bill_Amount  50447 non-null  float64       \n",
      "dtypes: category(10), datetime64[ns](1), float64(13), int64(6), object(4)\n",
      "memory usage: 10.0+ MB\n",
      "None\n"
     ]
    }
   ],
   "source": [
    "print(cleaned_df.info()) "
   ]
  },
  {
   "cell_type": "markdown",
   "id": "547b7faa-d7ae-4946-a530-2b66eb098537",
   "metadata": {
    "tags": []
   },
   "source": [
    "null_counts = cleaned_df.isnull().sum()\n",
    "print(\"Null values per column:\\n\", null_counts)"
   ]
  },
  {
   "cell_type": "markdown",
   "id": "daf5831e-53c0-46ce-abcf-3d0ba3ac75c4",
   "metadata": {
    "tags": []
   },
   "source": [
    "## Columns navigation after data cleaning \n"
   ]
  },
  {
   "cell_type": "markdown",
   "id": "2ff3f994-b0f2-4f98-9e80-939122c30229",
   "metadata": {
    "tags": []
   },
   "source": [
    "Excluded >>> To be used \n",
    "    Time >>> Standardized_Time\n",
    "    "
   ]
  },
  {
   "cell_type": "markdown",
   "id": "3c02a963-a709-4123-a78b-5dafbf23f3de",
   "metadata": {
    "tags": []
   },
   "source": []
  },
  {
   "cell_type": "code",
   "execution_count": null,
   "id": "51767d2b-bd9c-445d-83c3-033a5f02a2c3",
   "metadata": {},
   "outputs": [],
   "source": []
  }
 ],
 "metadata": {
  "kernelspec": {
   "display_name": "Python 3 (ipykernel)",
   "language": "python",
   "name": "python3"
  },
  "language_info": {
   "codemirror_mode": {
    "name": "ipython",
    "version": 3
   },
   "file_extension": ".py",
   "mimetype": "text/x-python",
   "name": "python",
   "nbconvert_exporter": "python",
   "pygments_lexer": "ipython3",
   "version": "3.11.5"
  },
  "toc": {
   "base_numbering": 1,
   "nav_menu": {},
   "number_sections": true,
   "sideBar": true,
   "skip_h1_title": false,
   "title_cell": "Table of Contents",
   "title_sidebar": "Contents",
   "toc_cell": false,
   "toc_position": {},
   "toc_section_display": true,
   "toc_window_display": false
  }
 },
 "nbformat": 4,
 "nbformat_minor": 5
}
