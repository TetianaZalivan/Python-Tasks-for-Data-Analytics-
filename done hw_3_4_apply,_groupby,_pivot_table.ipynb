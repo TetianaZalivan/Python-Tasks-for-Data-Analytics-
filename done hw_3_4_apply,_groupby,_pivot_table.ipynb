{
 "cells": [
  {
   "cell_type": "markdown",
   "metadata": {
    "id": "LwNpAFw_eTF3"
   },
   "source": [
    "#Домашнє завдання до тем apply(), groupby(), pivot_table()"
   ]
  },
  {
   "cell_type": "markdown",
   "metadata": {
    "id": "vP2PEJyq8Yrj"
   },
   "source": [
    "В цьому домашньому завданні продовжуємо працювати з набором даних `supermarket_sales.csv`."
   ]
  },
  {
   "cell_type": "markdown",
   "metadata": {
    "id": "dh9lfpDb8gBL"
   },
   "source": [
    "0. Імпортуйте бібліотеку pandas та зчитайте дані у змінну `df` типу `pandas.DataFrame`."
   ]
  },
  {
   "cell_type": "code",
   "execution_count": 10,
   "metadata": {
    "id": "xBI9gJMK8qnl"
   },
   "outputs": [],
   "source": [
    "import pandas as pd\n",
    "data_path = '../data/supermarket_sales.csv'\n",
    "df = pd.read_csv(data_path)"
   ]
  },
  {
   "cell_type": "markdown",
   "metadata": {
    "id": "28638363"
   },
   "source": [
    "1. Дослідимо, який філіал супермаркету ('Branch') є найприбутковішим. Для цього знайдіть сумарний прибуток за кожним філіалом і виявіть, який філіал має найвищий."
   ]
  },
  {
   "cell_type": "code",
   "execution_count": 274,
   "metadata": {
    "ExecuteTime": {
     "end_time": "2022-11-01T17:27:42.023877Z",
     "start_time": "2022-11-01T17:27:42.020277Z"
    },
    "id": "916d731d"
   },
   "outputs": [
    {
     "data": {
      "text/html": [
       "<div>\n",
       "<style scoped>\n",
       "    .dataframe tbody tr th:only-of-type {\n",
       "        vertical-align: middle;\n",
       "    }\n",
       "\n",
       "    .dataframe tbody tr th {\n",
       "        vertical-align: top;\n",
       "    }\n",
       "\n",
       "    .dataframe thead th {\n",
       "        text-align: right;\n",
       "    }\n",
       "</style>\n",
       "<table border=\"1\" class=\"dataframe\">\n",
       "  <thead>\n",
       "    <tr style=\"text-align: right;\">\n",
       "      <th></th>\n",
       "      <th>Invoice ID</th>\n",
       "      <th>Branch</th>\n",
       "      <th>City</th>\n",
       "      <th>Customer type</th>\n",
       "      <th>Gender</th>\n",
       "      <th>Product line</th>\n",
       "      <th>Unit price</th>\n",
       "      <th>Quantity</th>\n",
       "      <th>Tax 5%</th>\n",
       "      <th>Total</th>\n",
       "      <th>Date</th>\n",
       "      <th>Time</th>\n",
       "      <th>Payment</th>\n",
       "      <th>cogs</th>\n",
       "      <th>gross margin percentage</th>\n",
       "      <th>gross income</th>\n",
       "      <th>Rating</th>\n",
       "      <th>price_category</th>\n",
       "      <th>rating_category</th>\n",
       "    </tr>\n",
       "  </thead>\n",
       "  <tbody>\n",
       "    <tr>\n",
       "      <th>0</th>\n",
       "      <td>750-67-8428</td>\n",
       "      <td>A</td>\n",
       "      <td>Yangon</td>\n",
       "      <td>Member</td>\n",
       "      <td>Female</td>\n",
       "      <td>Health and beauty</td>\n",
       "      <td>74.69</td>\n",
       "      <td>7</td>\n",
       "      <td>26.1415</td>\n",
       "      <td>548.9715</td>\n",
       "      <td>1/5/2019</td>\n",
       "      <td>13:08</td>\n",
       "      <td>Ewallet</td>\n",
       "      <td>522.83</td>\n",
       "      <td>4.761905</td>\n",
       "      <td>26.1415</td>\n",
       "      <td>9.1</td>\n",
       "      <td>Medium-High</td>\n",
       "      <td>Top</td>\n",
       "    </tr>\n",
       "    <tr>\n",
       "      <th>1</th>\n",
       "      <td>226-31-3081</td>\n",
       "      <td>C</td>\n",
       "      <td>Naypyitaw</td>\n",
       "      <td>Normal</td>\n",
       "      <td>Female</td>\n",
       "      <td>Electronic accessories</td>\n",
       "      <td>15.28</td>\n",
       "      <td>5</td>\n",
       "      <td>3.8200</td>\n",
       "      <td>80.2200</td>\n",
       "      <td>3/8/2019</td>\n",
       "      <td>10:29</td>\n",
       "      <td>Cash</td>\n",
       "      <td>76.40</td>\n",
       "      <td>4.761905</td>\n",
       "      <td>3.8200</td>\n",
       "      <td>9.6</td>\n",
       "      <td>Low</td>\n",
       "      <td>Top</td>\n",
       "    </tr>\n",
       "    <tr>\n",
       "      <th>2</th>\n",
       "      <td>631-41-3108</td>\n",
       "      <td>A</td>\n",
       "      <td>Yangon</td>\n",
       "      <td>Normal</td>\n",
       "      <td>Male</td>\n",
       "      <td>Home and lifestyle</td>\n",
       "      <td>46.33</td>\n",
       "      <td>7</td>\n",
       "      <td>16.2155</td>\n",
       "      <td>340.5255</td>\n",
       "      <td>3/3/2019</td>\n",
       "      <td>13:23</td>\n",
       "      <td>Credit card</td>\n",
       "      <td>324.31</td>\n",
       "      <td>4.761905</td>\n",
       "      <td>16.2155</td>\n",
       "      <td>7.4</td>\n",
       "      <td>Medium</td>\n",
       "      <td>Excellent</td>\n",
       "    </tr>\n",
       "    <tr>\n",
       "      <th>3</th>\n",
       "      <td>123-19-1176</td>\n",
       "      <td>A</td>\n",
       "      <td>Yangon</td>\n",
       "      <td>Member</td>\n",
       "      <td>Male</td>\n",
       "      <td>Health and beauty</td>\n",
       "      <td>58.22</td>\n",
       "      <td>8</td>\n",
       "      <td>23.2880</td>\n",
       "      <td>489.0480</td>\n",
       "      <td>1/27/2019</td>\n",
       "      <td>20:33</td>\n",
       "      <td>Ewallet</td>\n",
       "      <td>465.76</td>\n",
       "      <td>4.761905</td>\n",
       "      <td>23.2880</td>\n",
       "      <td>8.4</td>\n",
       "      <td>Medium</td>\n",
       "      <td>Top</td>\n",
       "    </tr>\n",
       "    <tr>\n",
       "      <th>4</th>\n",
       "      <td>373-73-7910</td>\n",
       "      <td>A</td>\n",
       "      <td>Yangon</td>\n",
       "      <td>Normal</td>\n",
       "      <td>Male</td>\n",
       "      <td>Sports and travel</td>\n",
       "      <td>86.31</td>\n",
       "      <td>7</td>\n",
       "      <td>30.2085</td>\n",
       "      <td>634.3785</td>\n",
       "      <td>2/8/2019</td>\n",
       "      <td>10:37</td>\n",
       "      <td>Ewallet</td>\n",
       "      <td>604.17</td>\n",
       "      <td>4.761905</td>\n",
       "      <td>30.2085</td>\n",
       "      <td>5.3</td>\n",
       "      <td>High</td>\n",
       "      <td>Good</td>\n",
       "    </tr>\n",
       "  </tbody>\n",
       "</table>\n",
       "</div>"
      ],
      "text/plain": [
       "    Invoice ID Branch       City Customer type  Gender  \\\n",
       "0  750-67-8428      A     Yangon        Member  Female   \n",
       "1  226-31-3081      C  Naypyitaw        Normal  Female   \n",
       "2  631-41-3108      A     Yangon        Normal    Male   \n",
       "3  123-19-1176      A     Yangon        Member    Male   \n",
       "4  373-73-7910      A     Yangon        Normal    Male   \n",
       "\n",
       "             Product line  Unit price  Quantity   Tax 5%     Total       Date  \\\n",
       "0       Health and beauty       74.69         7  26.1415  548.9715   1/5/2019   \n",
       "1  Electronic accessories       15.28         5   3.8200   80.2200   3/8/2019   \n",
       "2      Home and lifestyle       46.33         7  16.2155  340.5255   3/3/2019   \n",
       "3       Health and beauty       58.22         8  23.2880  489.0480  1/27/2019   \n",
       "4       Sports and travel       86.31         7  30.2085  634.3785   2/8/2019   \n",
       "\n",
       "    Time      Payment    cogs  gross margin percentage  gross income  Rating  \\\n",
       "0  13:08      Ewallet  522.83                 4.761905       26.1415     9.1   \n",
       "1  10:29         Cash   76.40                 4.761905        3.8200     9.6   \n",
       "2  13:23  Credit card  324.31                 4.761905       16.2155     7.4   \n",
       "3  20:33      Ewallet  465.76                 4.761905       23.2880     8.4   \n",
       "4  10:37      Ewallet  604.17                 4.761905       30.2085     5.3   \n",
       "\n",
       "  price_category rating_category  \n",
       "0    Medium-High             Top  \n",
       "1            Low             Top  \n",
       "2         Medium       Excellent  \n",
       "3         Medium             Top  \n",
       "4           High            Good  "
      ]
     },
     "execution_count": 274,
     "metadata": {},
     "output_type": "execute_result"
    }
   ],
   "source": [
    "df.head()"
   ]
  },
  {
   "cell_type": "code",
   "execution_count": 28,
   "metadata": {
    "tags": []
   },
   "outputs": [
    {
     "data": {
      "text/plain": [
       "Branch\n",
       "A    5057.16\n",
       "B    5057.03\n",
       "C    5265.18\n",
       "Name: gross income, dtype: float64"
      ]
     },
     "execution_count": 28,
     "metadata": {},
     "output_type": "execute_result"
    }
   ],
   "source": [
    "df.groupby('Branch')['gross income'].sum().round(2)\n",
    "#df['gross income'].sum() ---- check for calculation"
   ]
  },
  {
   "cell_type": "markdown",
   "metadata": {
    "id": "2qL_OddUCZKK"
   },
   "source": [
    "2. В якому місті знайходиться філіал з найвищим прибутком? Може в тому місці нам розмітисти ще один магазин.  \n",
    "Знайдіть відповідь за допомогою функціоналу Pandas."
   ]
  },
  {
   "cell_type": "code",
   "execution_count": 103,
   "metadata": {
    "id": "bBJUc1dWCwdi"
   },
   "outputs": [
    {
     "name": "stdout",
     "output_type": "stream",
     "text": [
      "Branch with the highest gross income located in the City: Naypyitaw\n",
      "Branch           A        B        C    Total\n",
      "City                                         \n",
      "Naypyitaw      NaN      NaN  5265.18  5265.18\n",
      "Yangon     5057.16      NaN      NaN  5057.16\n",
      "Mandalay       NaN  5057.03      NaN  5057.03\n"
     ]
    },
    {
     "data": {
      "text/plain": [
       "' Based on this table we cannot answer the question regarding openning more shopd in the city Naypyitaw.\\nHowever, I would check the situation with brances, as we have one branch in one city, this is interesting and I would check the reason for that.\\nMoreover, Brach A,B has almost the same Gross income, in diferrent cities, this is also suspisious circumstance '"
      ]
     },
     "execution_count": 103,
     "metadata": {},
     "output_type": "execute_result"
    }
   ],
   "source": [
    "#df.pivot_table(index='City', columns='Branch', values='gross income', aggfunc='sum',margins=True)\n",
    "#df.pivot_table(index='City', columns='Branch', values='gross income', aggfunc=list)---check for nan\n",
    "\n",
    "pivot_table = df.pivot_table(index='City', columns='Branch', values='gross income', aggfunc='sum').round(2)\n",
    "pivot_table['Total'] = pivot_table.sum(axis=1)\n",
    "pivot_table_sorted = pivot_table.sort_values(by='Total', ascending=False)\n",
    "first_city = pivot_table_sorted.iloc[0].name\n",
    "print(\"Branch with the highest gross income located in the City:\", first_city)\n",
    "print(pivot_table_sorted)\n",
    "''' Based on this table we cannot answer the question regarding openning more shopd in the city Naypyitaw.\n",
    "However, I would check the situation with brances, as we have one branch in one city, this is interesting and I would check the reason for that.\n",
    "Moreover, Brach A,B has almost the same Gross income, in different cities, this is also suspicious coincidence '''"
   ]
  },
  {
   "cell_type": "markdown",
   "metadata": {
    "id": "6dec795f"
   },
   "source": [
    "3.1. Створіть зводну таблицю, яка покаже, скільки покупок (інвойсів) було зроблено в кожній з філій (`Branch`) за різними категоріями товарів. Запишіть таблицю в змінну `invoices_by_category` і виведіть змінну на екран.\n",
    "Ця таблиця допоможе проаналізувати, в якій філії купують найбільше товарів кожної з категорій."
   ]
  },
  {
   "cell_type": "code",
   "execution_count": 124,
   "metadata": {
    "id": "N7TfUBf4ZrkX"
   },
   "outputs": [
    {
     "data": {
      "text/html": [
       "<div>\n",
       "<style scoped>\n",
       "    .dataframe tbody tr th:only-of-type {\n",
       "        vertical-align: middle;\n",
       "    }\n",
       "\n",
       "    .dataframe tbody tr th {\n",
       "        vertical-align: top;\n",
       "    }\n",
       "\n",
       "    .dataframe thead th {\n",
       "        text-align: right;\n",
       "    }\n",
       "</style>\n",
       "<table border=\"1\" class=\"dataframe\">\n",
       "  <thead>\n",
       "    <tr style=\"text-align: right;\">\n",
       "      <th>Product line</th>\n",
       "      <th>Electronic accessories</th>\n",
       "      <th>Fashion accessories</th>\n",
       "      <th>Food and beverages</th>\n",
       "      <th>Health and beauty</th>\n",
       "      <th>Home and lifestyle</th>\n",
       "      <th>Sports and travel</th>\n",
       "    </tr>\n",
       "    <tr>\n",
       "      <th>Branch</th>\n",
       "      <th></th>\n",
       "      <th></th>\n",
       "      <th></th>\n",
       "      <th></th>\n",
       "      <th></th>\n",
       "      <th></th>\n",
       "    </tr>\n",
       "  </thead>\n",
       "  <tbody>\n",
       "    <tr>\n",
       "      <th>A</th>\n",
       "      <td>60</td>\n",
       "      <td>51</td>\n",
       "      <td>58</td>\n",
       "      <td>47</td>\n",
       "      <td>65</td>\n",
       "      <td>59</td>\n",
       "    </tr>\n",
       "    <tr>\n",
       "      <th>B</th>\n",
       "      <td>55</td>\n",
       "      <td>62</td>\n",
       "      <td>50</td>\n",
       "      <td>53</td>\n",
       "      <td>50</td>\n",
       "      <td>62</td>\n",
       "    </tr>\n",
       "    <tr>\n",
       "      <th>C</th>\n",
       "      <td>55</td>\n",
       "      <td>65</td>\n",
       "      <td>66</td>\n",
       "      <td>52</td>\n",
       "      <td>45</td>\n",
       "      <td>45</td>\n",
       "    </tr>\n",
       "  </tbody>\n",
       "</table>\n",
       "</div>"
      ],
      "text/plain": [
       "Product line  Electronic accessories  Fashion accessories  Food and beverages  \\\n",
       "Branch                                                                          \n",
       "A                                 60                   51                  58   \n",
       "B                                 55                   62                  50   \n",
       "C                                 55                   65                  66   \n",
       "\n",
       "Product line  Health and beauty  Home and lifestyle  Sports and travel  \n",
       "Branch                                                                  \n",
       "A                            47                  65                 59  \n",
       "B                            53                  50                 62  \n",
       "C                            52                  45                 45  "
      ]
     },
     "execution_count": 124,
     "metadata": {},
     "output_type": "execute_result"
    }
   ],
   "source": [
    "invoices_by_category=df.pivot_table(index='Branch', columns='Product line', values='gross income', aggfunc='count')\n",
    "invoices_by_category"
   ]
  },
  {
   "cell_type": "markdown",
   "metadata": {
    "ExecuteTime": {
     "end_time": "2022-11-01T16:50:46.961201Z",
     "start_time": "2022-11-01T16:50:46.955894Z"
    },
    "id": "f5bbfa34"
   },
   "source": [
    "Очікуваний результат:"
   ]
  },
  {
   "attachments": {
    "6cbb08e8-5b56-434d-8813-ea7bef9bfde6.png": {
     "image/png": "[encoded data removed]"
    }
   },
   "cell_type": "markdown",
   "metadata": {
    "id": "34b9bcdc"
   },
   "source": [
    "![image.png](attachment:6cbb08e8-5b56-434d-8813-ea7bef9bfde6.png)"
   ]
  },
  {
   "cell_type": "markdown",
   "metadata": {
    "id": "woygDEA0OSwJ"
   },
   "source": [
    "3.2. Викристовуючи змінну `invoices_by_category` дайте відповідь програмно (тобто значення треба не просто знайти очима, а вивести за допомогою коду), в якому філіалі магазину (`Branch`) найбільше інвойсів із покупкою товарів категорії \"Електронні аксесуари\" (`Electronic accessories`)?\n"
   ]
  },
  {
   "cell_type": "code",
   "execution_count": 133,
   "metadata": {
    "id": "B5x8kTE-Qcq8"
   },
   "outputs": [
    {
     "name": "stdout",
     "output_type": "stream",
     "text": [
      "The largest number of invoices in the Electronic accessories section is in the Branch: A\n"
     ]
    }
   ],
   "source": [
    "\n",
    "top_el_branch = invoices_by_category['Electronic accessories'].idxmax()\n",
    "print(\"The largest number of invoices in the Electronic accessories section is in the Branch:\", top_el_branch)"
   ]
  },
  {
   "cell_type": "markdown",
   "metadata": {
    "ExecuteTime": {
     "end_time": "2022-11-01T17:56:02.981755Z",
     "start_time": "2022-11-01T17:56:02.977086Z"
    },
    "id": "d005a2b8"
   },
   "source": [
    "4-6. **Творче завдання на розвиток аналітичного мислення**\n",
    "\n",
    "Крок 1. Сформулюйте ТРИ питання (гіпотези) до наявних даних, які допомогли б вам зрозуміти, які користувачі що, де та коли найбільше/найменше купують, аби дати на основі цих гіпотез рекомендації бізнесу. Звісно питання мають бути не тими, на які ми вже відповіли в завданнях модулю.\n",
    "\n",
    "Крок 2. Знайдіть відповіді на свої питання з допомогою функціоналу pandas.\n",
    "\n",
    "Крок 3. Напишіть, як відповідь на це питання може бути використана для прийняття бізнес рішень.   \n",
    "   \n",
    " Питання можуть бути будь-якої складності, але їх має бути 3. Кожне питання оцінюється як 1 завдання. Без виконання цього завдання ДЗ не приймається. Якщо є питання щодо виконання - пишіть у чат 🙌\n"
   ]
  },
  {
   "cell_type": "markdown",
   "metadata": {
    "id": "cM3cApWSZuRX"
   },
   "source": [
    "1. I suppose male buy more electronic and sport accessories than female\n",
    "2. I suppose cheaper goods has higher sales \n",
    "3. I believe goods with higher rating has higher sales (price is less important)"
   ]
  },
  {
   "cell_type": "code",
   "execution_count": 199,
   "metadata": {
    "tags": []
   },
   "outputs": [
    {
     "name": "stdout",
     "output_type": "stream",
     "text": [
      "Product line  Electronic accessories  Fashion accessories  Food and beverages  \\\n",
      "Gender                                                                          \n",
      "Female                            84                   96                  90   \n",
      "Male                              86                   82                  84   \n",
      "All                              170                  178                 174   \n",
      "\n",
      "Product line  Health and beauty  Home and lifestyle  Sports and travel   All  \n",
      "Gender                                                                        \n",
      "Female                       64                  79                 88   501  \n",
      "Male                         88                  81                 78   499  \n",
      "All                         152                 160                166  1000  \n"
     ]
    },
    {
     "data": {
      "text/plain": [
       "'\\nHypothesis failed,what means that promoting of these good should not consentrated only on male. \\nTop woman category is fashion and accessories, top man category is health and beaty. \\nI would recommend to check closer sales strategy in fashion and accessories, as it gives us highest \\ngross income, possibly some practices can be used in promoting other categories\\n'"
      ]
     },
     "execution_count": 199,
     "metadata": {},
     "output_type": "execute_result"
    }
   ],
   "source": [
    "# 1.\n",
    "gender=df.pivot_table(index='Gender', columns='Product line', values='gross income', aggfunc='count', margins=True)\n",
    "print(gender)\n",
    "'''\n",
    "Hypothesis failed,what means that promoting of these good should not consentrated only on male. \n",
    "Top woman category is fashion and accessories, top man category is health and beaty. \n",
    "I would recommend to check closer sales strategy in fashion and accessories, as it gives us highest \n",
    "gross income, possibly some practices can be used in promoting other categories\n",
    "'''"
   ]
  },
  {
   "cell_type": "code",
   "execution_count": 219,
   "metadata": {
    "tags": []
   },
   "outputs": [
    {
     "name": "stdout",
     "output_type": "stream",
     "text": [
      "price_category\n",
      "Low            106\n",
      "Medium         215\n",
      "Medium-High    221\n",
      "Medium-Low     226\n",
      "High           232\n",
      "Name: Invoice ID, dtype: int64\n"
     ]
    },
    {
     "data": {
      "text/plain": [
       "' Hypothesis failed,expensive goods are selling the best.However interesting thing in here is that \\ncheap goods with the price less than 20 have a significant drop in sales, at least twice less than \\nin the other categories. I would focus attention on this, maybe price increase for this goods will\\nstimulate demand on this goods ?! \\nTo overall, price is not the stopper for customer.More information we can get on hipothesis 3'"
      ]
     },
     "execution_count": 219,
     "metadata": {},
     "output_type": "execute_result"
    }
   ],
   "source": [
    "#2.\n",
    "\n",
    "def price_grouping(val): \n",
    "    if val <= 20:\n",
    "        return 'Low'\n",
    "    elif val <= 40:\n",
    "        return 'Medium-Low'\n",
    "    elif val <= 60:\n",
    "        return 'Medium'\n",
    "    elif val <= 80:\n",
    "        return 'Medium-High'\n",
    "    else:\n",
    "        return 'High'\n",
    "df['price_category'] = df['Unit price'].apply(price_grouping)\n",
    "df[['Unit price', 'price_category']]\n",
    "grouped=df.groupby('price_category')['Invoice ID'].count()\n",
    "sorted_group = grouped.sort_values() \n",
    "print(sorted_group)\n",
    "''' Hypothesis failed,expensive goods are selling the best.However interesting thing in here is that \n",
    "cheap goods with the price less than 20 have a significant drop in sales, at least twice less than \n",
    "in the other categories. I would focus attention on this, maybe price increase for this goods will\n",
    "stimulate demand on this goods ?! \n",
    "To overall, price is not the stopper for customer.More information we can get on hipothesis 3'''"
   ]
  },
  {
   "cell_type": "code",
   "execution_count": 267,
   "metadata": {
    "tags": []
   },
   "outputs": [
    {
     "data": {
      "text/html": [
       "<div>\n",
       "<style scoped>\n",
       "    .dataframe tbody tr th:only-of-type {\n",
       "        vertical-align: middle;\n",
       "    }\n",
       "\n",
       "    .dataframe tbody tr th {\n",
       "        vertical-align: top;\n",
       "    }\n",
       "\n",
       "    .dataframe thead th {\n",
       "        text-align: right;\n",
       "    }\n",
       "</style>\n",
       "<table border=\"1\" class=\"dataframe\">\n",
       "  <thead>\n",
       "    <tr style=\"text-align: right;\">\n",
       "      <th>price_category</th>\n",
       "      <th>High</th>\n",
       "      <th>Low</th>\n",
       "      <th>Medium</th>\n",
       "      <th>Medium-High</th>\n",
       "      <th>Medium-Low</th>\n",
       "      <th>All</th>\n",
       "    </tr>\n",
       "    <tr>\n",
       "      <th>rating_category</th>\n",
       "      <th></th>\n",
       "      <th></th>\n",
       "      <th></th>\n",
       "      <th></th>\n",
       "      <th></th>\n",
       "      <th></th>\n",
       "    </tr>\n",
       "  </thead>\n",
       "  <tbody>\n",
       "    <tr>\n",
       "      <th>All</th>\n",
       "      <td>232.0</td>\n",
       "      <td>106.0</td>\n",
       "      <td>215.0</td>\n",
       "      <td>221.0</td>\n",
       "      <td>226.0</td>\n",
       "      <td>1000</td>\n",
       "    </tr>\n",
       "    <tr>\n",
       "      <th>Excellent</th>\n",
       "      <td>85.0</td>\n",
       "      <td>36.0</td>\n",
       "      <td>71.0</td>\n",
       "      <td>71.0</td>\n",
       "      <td>88.0</td>\n",
       "      <td>351</td>\n",
       "    </tr>\n",
       "    <tr>\n",
       "      <th>Fair</th>\n",
       "      <td>2.0</td>\n",
       "      <td>NaN</td>\n",
       "      <td>4.0</td>\n",
       "      <td>4.0</td>\n",
       "      <td>1.0</td>\n",
       "      <td>11</td>\n",
       "    </tr>\n",
       "    <tr>\n",
       "      <th>Good</th>\n",
       "      <td>72.0</td>\n",
       "      <td>34.0</td>\n",
       "      <td>66.0</td>\n",
       "      <td>88.0</td>\n",
       "      <td>70.0</td>\n",
       "      <td>330</td>\n",
       "    </tr>\n",
       "    <tr>\n",
       "      <th>Top</th>\n",
       "      <td>73.0</td>\n",
       "      <td>36.0</td>\n",
       "      <td>74.0</td>\n",
       "      <td>58.0</td>\n",
       "      <td>67.0</td>\n",
       "      <td>308</td>\n",
       "    </tr>\n",
       "  </tbody>\n",
       "</table>\n",
       "</div>"
      ],
      "text/plain": [
       "price_category    High    Low  Medium  Medium-High  Medium-Low   All\n",
       "rating_category                                                     \n",
       "All              232.0  106.0   215.0        221.0       226.0  1000\n",
       "Excellent         85.0   36.0    71.0         71.0        88.0   351\n",
       "Fair               2.0    NaN     4.0          4.0         1.0    11\n",
       "Good              72.0   34.0    66.0         88.0        70.0   330\n",
       "Top               73.0   36.0    74.0         58.0        67.0   308"
      ]
     },
     "execution_count": 267,
     "metadata": {},
     "output_type": "execute_result"
    }
   ],
   "source": [
    "#3.\n",
    "df['price_category']\n",
    "\n",
    "def rating_grouping(val): \n",
    "    if val <= 2:\n",
    "        return 'Poor'\n",
    "    elif val <= 4:\n",
    "        return 'Fair'\n",
    "    elif val <= 6:\n",
    "        return 'Good'\n",
    "    elif val <= 8:\n",
    "        return 'Excellent'\n",
    "    else:\n",
    "        return 'Top'\n",
    "df['rating_category'] = df.Rating.apply(rating_grouping)\n",
    "df[['Rating', 'rating_category']]\n",
    "\n",
    "rating_p=df.pivot_table(index='rating_category', columns='price_category', values='gross income', aggfunc='count', margins=True)\n",
    "sorted_group = rating_p.sort_values(by=['rating_category'],ascending=[True])\n",
    "#sorted_group2 = rating_p.sort_values(by=['rating_category','price_category'])#, ascending=[True, False]) \n",
    "rating_p\n",
    "\"\"\"How to solve an error with 'price_category' in sorted_group2?\n",
    "It does not work with pivot columns and in general it did not work like in previous so solting failed\n",
    "\"\"\"\n",
    "sorted_group\n"
   ]
  },
  {
   "cell_type": "markdown",
   "metadata": {},
   "source": [
    "Hypothesis approved\n",
    "As we can can see, we do not have goods/items with low rating, which is good in term of the goods quality.\n",
    "Top sales are in categories:\n",
    "-upder the prices range Medium-Low (20-40) and Excellent rating (6-8)\n",
    "-upder the prices range Medium-High (40-60) and Good rating (4-6)\n",
    "Significat drop in sales are observed for products with a rating below 4.\n",
    "To overall, I can assume that business should care a lot about rating, as goods with rating 0-4 do not have demand, even if the price is Low (zero purchased)."
   ]
  }
 ],
 "metadata": {
  "colab": {
   "provenance": []
  },
  "kernelspec": {
   "display_name": "Python 3 (ipykernel)",
   "language": "python",
   "name": "python3"
  },
  "language_info": {
   "codemirror_mode": {
    "name": "ipython",
    "version": 3
   },
   "file_extension": ".py",
   "mimetype": "text/x-python",
   "name": "python",
   "nbconvert_exporter": "python",
   "pygments_lexer": "ipython3",
   "version": "3.11.5"
  }
 },
 "nbformat": 4,
 "nbformat_minor": 4
}
