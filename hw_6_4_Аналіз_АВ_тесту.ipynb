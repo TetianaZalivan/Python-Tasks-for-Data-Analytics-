{
 "cells": [
  {
   "cell_type": "markdown",
   "metadata": {
    "id": "e411f482"
   },
   "source": [
    "## Аналіз A/B тесту"
   ]
  },
  {
   "cell_type": "markdown",
   "metadata": {
    "ExecuteTime": {
     "end_time": "2022-12-10T17:43:42.137588Z",
     "start_time": "2022-12-10T17:43:42.124712Z"
    },
    "id": "f41183ed"
   },
   "source": [
    "Маємо проаналізувати дані A/B тесту в популярній [грі Cookie Cats](https://www.facebook.com/cookiecatsgame). Це класична гра-головоломка в стилі «з’єднай три», де гравець повинен з’єднати плитки одного кольору, щоб очистити дошку та виграти рівень. На дошці також зображені співаючі котики :)\n",
    "\n",
    "Під час проходження гри гравці стикаються з воротами, які змушують їх чекати деякий час, перш ніж вони зможуть прогресувати або зробити покупку в додатку. У цьому блоці завдань ми проаналізуємо результати A/B тесту, коли перші ворота в Cookie Cats було переміщено з рівня 30 на рівень 40. Зокрема, ми проаналізуємо вплив на утримання (retention) гравців. Тобто хочемо зрозуміти чи переміщення воріт на 10 рівнів пізніше якимось чином вплинуло на те, що користувачі перестають грати в гру раніше чи пізніше з точки зору кількості їх днів з моменту встановлення гри.\n",
    "\n",
    "Будемо працювати з даними з файлу `cookie_cats.csv`. Змінні в даних наступні:\n",
    "\n",
    "- userid - унікальний номер, який ідентифікує кожного гравця.\n",
    "- version - чи потрапив гравець в контрольну групу (gate_30 - ворота на 30 рівні) чи тестову групу (gate_40 - ворота на 40 рівні).\n",
    "- sum_gamerounds - кількість ігрових раундів, зіграних гравцем протягом першого тижня після встановлення\n",
    "- retention_1 - чи через 1 день після встановлення гравець повернувся і почав грати?\n",
    "- retention_7 - чи через 7 днів після встановлення гравець повернувся і почав грати?\n",
    "\n",
    "Коли гравець встановлював гру, його випадковим чином призначали до групи gate_30 або gate_40."
   ]
  },
  {
   "cell_type": "markdown",
   "metadata": {
    "id": "22f03df4"
   },
   "source": [
    "1. Зчитайте дані АВ тесту у змінну `df` та виведіть середнє значення показника показник `retention_7` (утримання на 7 день) по версіям гри. Сформулюйте гіпотезу: яка версія дає краще утримання через 7 днів після встановлення гри?"
   ]
  },
  {
   "cell_type": "code",
   "execution_count": 26,
   "metadata": {
    "id": "MVzMTs-jh22b",
    "tags": []
   },
   "outputs": [
    {
     "name": "stdout",
     "output_type": "stream",
     "text": [
      "   userid  version  sum_gamerounds  retention_1  retention_7\n",
      "0     116  gate_30               3        False        False\n",
      "1     337  gate_30              38         True        False\n",
      "2     377  gate_40             165         True        False\n",
      "3     483  gate_40               1        False        False\n",
      "4     488  gate_40             179         True         True\n",
      "0.19020134228187918 0.18200004396667327\n"
     ]
    }
   ],
   "source": [
    "import numpy as np\n",
    "import pandas as pd\n",
    "import os\n",
    "data_path = '../data/cookie_cats.csv'\n",
    "df = pd.read_csv(data_path)\n",
    "print(df.head())\n",
    "#print(f'Mean: {np.mean(df[\"retention_7\"])}') \n",
    "mean_30 = np.mean(df[df['version'] == 'gate_30']['retention_7'])\n",
    "mean_40 = np.mean(df[df['version'] == 'gate_40']['retention_7'])\n",
    "print(mean_30,mean_40)\n",
    "#Based on the mean value better to use gate30, as retention rate almost 1% higher\n",
    "#H0 - no diff while changing from L30 to L40\n",
    "#H1 - higher retention rate while boards on the level 40"
   ]
  },
  {
   "cell_type": "markdown",
   "metadata": {
    "id": "74e9c6ca"
   },
   "source": [
    "2. Перевірте з допомогою z-тесту аналогічно до прикладу в лекції, чи дає якась з версій гри кращий показник `retention_7` на рівні значущості 0.05. Обчисліть також довірчі інтервали для двох вибірок. Виведіть результат у форматі:\n",
    "```\n",
    "z statistic: ...\n",
    "p-value: ...\n",
    "Довірчий інтервал 95% для групи control: [..., ...]\n",
    "Довірчий інтервал 95% для групи treatment: [..., ...]\n",
    "```\n",
    "де замість `...` - обчислені значення. В якості висновка дайте відповідь на два питання:  \n",
    "    1. чи є статистична значущою різниця між поведінкою користувачів у різних версіях гри?   \n",
    "    2. чи перетинаються довірчі інтервали утримання користувачів з різних версій гри? Про що це каже?  \n",
    "    \n",
    "Зверніть увагу, в такому і схожому завданнях ми використовуєм `proportion` Z-тест. Це тому що в нас залежна змінна має бінарне значення (повернеться аби ні користувач, чи клікне або ні користувач в інших ситуаціях - всього два можливих значення в змінної: 0/1, True/False ). Якщо б ми вимірювали скажімо чи є стат. значущою різниця між вагою чоловіків і жінок в певній вибірці, ми б використовувавли функцію `statsmodels.stats.ztest`, бо залежна змінна `вага` є неперервною (тип float, замість типу int чи bool і тільки двох можливих значень)."
   ]
  },
  {
   "cell_type": "code",
   "execution_count": 53,
   "metadata": {
    "id": "kXQE4gyjh5MS",
    "tags": []
   },
   "outputs": [
    {
     "name": "stdout",
     "output_type": "stream",
     "text": [
      "z statistic: 3.16\n",
      "p-value: 0.002\n",
      "Confidence interval 95 % for the control group: [0.187, 0.194]\n",
      "Confidence interval 95 % for the test group:: [0.178, 0.186]\n",
      "Based on the p-value result (p < 0.05), we reject the null hypothesis (H0).\n"
     ]
    }
   ],
   "source": [
    "from statsmodels.stats.proportion import proportions_ztest, proportion_confint\n",
    "#total_30 = ('version')['gate_30'].value_counts()\n",
    "#conversion_rates = df.groupby('version')['retention_7']\n",
    "#conversion_rates\n",
    "control_results = df[df['version'] == 'gate_30']['retention_7']\n",
    "test_results = df[df['version'] == 'gate_40']['retention_7']\n",
    "n_con = control_results.count()\n",
    "n_test = test_results.count()\n",
    "successes = [control_results.sum(), test_results.sum()]\n",
    "nobs = [n_con, n_test]\n",
    "\n",
    "\n",
    "z_stat, pval = proportions_ztest(successes, nobs=nobs)\n",
    "(lower_con, lower_treat), (upper_con, upper_treat) = proportion_confint(successes, nobs=nobs, alpha=0.05)\n",
    "\n",
    "print(f'z statistic: {z_stat:.2f}')\n",
    "print(f'p-value: {pval:.3f}')\n",
    "print(f'Confidence interval 95 % for the control group: [{lower_con:.3f}, {upper_con:.3f}]')\n",
    "print(f'Confidence interval 95 % for the test group:: [{lower_treat:.3f}, {upper_treat:.3f}]')\n",
    "# Based on the p value result which is 0.2%,we can decline H0????\n",
    "alpha = 0.05\n",
    "if pval < alpha:\n",
    "    print(\"Based on the p-value result (p < 0.05), we reject the null hypothesis (H0).\")\n",
    "else:\n",
    "    print(\"Based on the p-value result (p >= 0.05), we fail to reject the null hypothesis (H0).\")"
   ]
  },
  {
   "cell_type": "code",
   "execution_count": 55,
   "metadata": {
    "tags": []
   },
   "outputs": [
    {
     "data": {
      "text/plain": [
       "(8502, 8279)"
      ]
     },
     "execution_count": 55,
     "metadata": {},
     "output_type": "execute_result"
    }
   ],
   "source": [
    "#check\n",
    "count_true_30 = df[(df['version'] == 'gate_30') & (df['retention_7'] == True)].shape[0]\n",
    "count_true_40 = df[(df['version'] == 'gate_40') & (df['retention_7'] == True)].shape[0]\n",
    "count_true_30,count_true_40\n",
    "# I do not understand why p value is so low, as confidence is higher in gate_30, z-test is not valid???"
   ]
  },
  {
   "cell_type": "markdown",
   "metadata": {
    "ExecuteTime": {
     "end_time": "2022-12-10T20:50:10.709766Z",
     "start_time": "2022-12-10T20:50:10.639999Z"
    },
    "id": "076cd867"
   },
   "source": [
    "3. Є ще один тип тестів, який використовується для бінарної метрики як от \"зробить юзер дію, чи ні\" - тест [**Хі-квадрат**](https://www.bmj.com/about-bmj/resources-readers/publications/statistics-square-one/8-chi-squared-tests) (ще одне [пояснення](https://www.scribbr.com/statistics/chi-square-tests/) тесту з прикладами). В нього інші гіпотези Н0 і Н1 на відміну від z- та t-тестів. А також цей тест можна використовувати, якщо в нас більше за 2 досліджувані групи, тобто в нас не А/В тест, а А/B/C/D, наприклад.  \n",
    "\n",
    "В **z- та t-тестах** (які відрізняються тим, що ми в першому не знаємо дисперсію генеральної сукупності, але якщо в нас великий набір даних, то ці два тести дають дуже схожі результати) **ми перевіряємо, чи є різниця у середніх показниках по групам користувачів**.  \n",
    "\n",
    "А в **тесті Хі-квадрат ми перевіряємо чи є звʼязок між групою користувача і тим, чи він зробить цікаву нам дію**. Це ніби дослідження одного і того самого, але дещо різними способами. Для перевірки, можна виконувати кілька тестів (особливо, якщо один дає якийсь непереконливий результат типу р-значення 0.07 - наче і fail to regect H0 на рівні стат значущості 5%, але цікаво, що скажуть інші тести), тож, зробимо і ми тест хі-квадрат та порівняємо його результат з z-тестом.\n",
    "\n",
    "Про різницю між тестами можна почитати ще [тут](https://stats.stackexchange.com/a/178860) - це просто пояснення користувача стековерфлоу, але там розумні люди сидять.\n",
    "\n",
    "Для проведення хі-квадрат тесту скористаємось функцією з `scipy.stats` `chi2_contingency` для обчислення статистики хі-квадрат і р-значення для перевірки конкретної гіпотези. У цю функцію вам треба передати таблицю 2х2: кількість випадків для кожної версії гри і значення `retention_7`.\n",
    "\n",
    "**Задача**: виконайте тест хі-квадрат на рівні значущості 5% аби визначити, чи є залежність між версією гри та тим, чи зайде гравець на 7ий день після встановлення гри.\n",
    "Тут гіпотези наступні\n",
    "- Н0: значення retention_7 не залежить від версії гри\n",
    "- Н1: є залежність між версією гри і значенням retention_7\n",
    "\n",
    "Виведіть p-значення та зробіть висновок.\n"
   ]
  },
  {
   "cell_type": "code",
   "execution_count": 63,
   "metadata": {
    "id": "kcwD-91Fh84n",
    "tags": []
   },
   "outputs": [
    {
     "name": "stdout",
     "output_type": "stream",
     "text": [
      "Chi-square statistic: 9.96\n",
      "p-value: 0.0016\n",
      "Reject the null hypothesis (H0).\n"
     ]
    }
   ],
   "source": [
    "from scipy.stats import chi2_contingency\n",
    "contingency_table = pd.crosstab(df['version'], df['retention_7'])\n",
    "contingency_table\n",
    "chi2, pval, _, _ = chi2_contingency(contingency_table)\n",
    "print(f'Chi-square statistic: {chi2:.2f}')\n",
    "print(f'p-value: {pval:.4f}')\n",
    "\n",
    "alpha = 0.05\n",
    "if pval < alpha:\n",
    "    print(\"Reject the null hypothesis (H0).\")\n",
    "else:\n",
    "    print(\"Fail to reject the null hypothesis (H0)\")"
   ]
  },
  {
   "cell_type": "code",
   "execution_count": null,
   "metadata": {},
   "outputs": [],
   "source": [
    "# result here even worst, as it proves more that H0 is not valid"
   ]
  }
 ],
 "metadata": {
  "colab": {
   "provenance": []
  },
  "kernelspec": {
   "display_name": "Python 3 (ipykernel)",
   "language": "python",
   "name": "python3"
  },
  "language_info": {
   "codemirror_mode": {
    "name": "ipython",
    "version": 3
   },
   "file_extension": ".py",
   "mimetype": "text/x-python",
   "name": "python",
   "nbconvert_exporter": "python",
   "pygments_lexer": "ipython3",
   "version": "3.11.5"
  }
 },
 "nbformat": 4,
 "nbformat_minor": 4
}
