{
 "cells": [
  {
   "cell_type": "markdown",
   "id": "aed503f1",
   "metadata": {
    "ExecuteTime": {
     "end_time": "2023-07-27T20:14:32.871852Z",
     "start_time": "2023-07-27T20:14:31.036121Z"
    },
    "id": "aed503f1"
   },
   "source": [
    "У завданнях 1-4. Вам наданий простий код на Python, який не відповідає вказівкам PEP8. Ваше завдання — відредагувати код так, аби він відповідав PEP8. Напишіть після редагуванню коду, дотримання яких правил з pep8 ви досягли в відредагованій версі, наприклад\n",
    "```\n",
    "- додала пробіли навколо бінарного оператора\n",
    "- додала два порожні рядки між визначеннями функцій\n",
    "і тд\n",
    "```\n",
    "Також можна зазанчити використані правила коментарями по коду, а не окремим повідомленням.\n",
    "\n",
    "Відредагований код має виконувати весь той самий функціонал, але бути написаний відповідно до вимог до гарного коду на Python! Не забудьте запустити відредагований код, він має бути робочим."
   ]
  },
  {
   "cell_type": "markdown",
   "id": "e7fea147",
   "metadata": {
    "id": "e7fea147"
   },
   "source": [
    "Завдання 1."
   ]
  },
  {
   "cell_type": "code",
   "execution_count": 1,
   "id": "f63d84d7",
   "metadata": {
    "ExecuteTime": {
     "end_time": "2023-07-29T17:02:37.075783Z",
     "start_time": "2023-07-29T17:02:37.035259Z"
    },
    "id": "f63d84d7",
    "tags": []
   },
   "outputs": [
    {
     "name": "stdout",
     "output_type": "stream",
     "text": [
      "Hello, John\n"
     ]
    },
    {
     "data": {
      "text/plain": [
       "None"
      ]
     },
     "metadata": {},
     "output_type": "display_data"
    },
    {
     "data": {
      "text/plain": [
       "8"
      ]
     },
     "metadata": {},
     "output_type": "display_data"
    }
   ],
   "source": [
    "def greet(name):print(f\"Hello, {name}\")\n",
    "def add(n1,n2):return n1+n2\n",
    "\n",
    "x = 5;y = 3\n",
    "display(greet(\"John\"),add(x,y))\n"
   ]
  },
  {
   "cell_type": "code",
   "execution_count": 2,
   "id": "41b7e672",
   "metadata": {
    "id": "41b7e672",
    "tags": []
   },
   "outputs": [
    {
     "name": "stdout",
     "output_type": "stream",
     "text": [
      "Hello, John\n",
      "8\n"
     ]
    }
   ],
   "source": [
    "def greet(name: str) -> str:\n",
    "    \"\"\"\n",
    "    Greets the person with the given name.\n",
    "\n",
    "    Parameters:\n",
    "    name (str): The name of the person to greet.\n",
    "\n",
    "    Returns:\n",
    "    str: The greeting message.\n",
    "    \"\"\"\n",
    "    return f\"Hello, {name}\"\n",
    "\n",
    "\n",
    "def add_(n1: int, n2: int) -> int:\n",
    "    \"\"\"\n",
    "    Adds two numbers and returns the result.\n",
    "\n",
    "    Parameters:\n",
    "    n1 (int): The first number.\n",
    "    n2 (int): The second number.\n",
    "\n",
    "    Returns:\n",
    "    int: The sum of n1 and n2.\n",
    "    \"\"\"\n",
    "    return n1 + n2\n",
    "\n",
    "x, y = 5, 3\n",
    "\n",
    "greeting_message = greet(\"John\")\n",
    "print(greeting_message)\n",
    "\n",
    "result = add_(x, y)\n",
    "print(result)\n",
    "\n",
    "# Note: display function is not a standard function, so it's not used here\n",
    "\n",
    "\n",
    "#changes: function visibility,spaces,\"_\"after add as add is standard method,variable x,y optimization,\n",
    "#docstrings,int, str data types, None deleted from result >greeting function return result instead of printing\n",
    "#defs print call independent "
   ]
  },
  {
   "cell_type": "markdown",
   "id": "cea88baf",
   "metadata": {
    "id": "cea88baf"
   },
   "source": [
    "Завдання 2."
   ]
  },
  {
   "cell_type": "code",
   "execution_count": 3,
   "id": "dfb6d2b5",
   "metadata": {
    "ExecuteTime": {
     "end_time": "2023-07-29T17:05:49.706098Z",
     "start_time": "2023-07-29T17:05:49.688255Z"
    },
    "id": "dfb6d2b5"
   },
   "outputs": [
    {
     "name": "stdout",
     "output_type": "stream",
     "text": [
      "Area: 78.53981633974483 Circumference: 31.41592653589793\n"
     ]
    }
   ],
   "source": [
    "from math import *\n",
    "def calcArea(r):return pi*r**2\n",
    "def calcCircumference(r):return 2*pi*r\n",
    "\n",
    "radius=5\n",
    "print(\"Area:\",calcArea(radius),\"Circumference:\",calcCircumference(radius))"
   ]
  },
  {
   "cell_type": "code",
   "execution_count": 4,
   "id": "df263672",
   "metadata": {
    "id": "df263672"
   },
   "outputs": [
    {
     "name": "stdout",
     "output_type": "stream",
     "text": [
      "Area: 78.5398, Circumference: 31.4159\n"
     ]
    },
    {
     "data": {
      "text/plain": [
       "'\\nChanges: \\nimport * >>> import pi (to spesify what we need/use)\\ndef >>>docstrings,function visibility,spaces,snake_case,data types\\nvariable,print >>> spaces, f string, round for better visibility\\n'"
      ]
     },
     "execution_count": 4,
     "metadata": {},
     "output_type": "execute_result"
    }
   ],
   "source": [
    "from math import pi\n",
    "def calc_area(r: float) -> float:\n",
    "    \"\"\"\n",
    "    Calculates the area of a circle with the given radius.\n",
    "\n",
    "    Parameters:\n",
    "    r (float): The radius of the circle.\n",
    "\n",
    "    Returns:\n",
    "    float: The area of the circle, rounded to four decimal places.\n",
    "    \"\"\"\n",
    "    return round(pi * r ** 2,4)\n",
    "def calc_circumference(r: float) -> float:\n",
    "    \"\"\"\n",
    "    Calculates the circumference of a circle with the given radius.\n",
    "\n",
    "    Parameters:\n",
    "    r (float): The radius of the circle.\n",
    "\n",
    "    Returns:\n",
    "    float: The circumference of the circle, rounded to four decimal places.\n",
    "    \"\"\"\n",
    "    return round(2 * pi *r,4)\n",
    "\n",
    "radius = 5\n",
    "print(f\"Area: {calc_area(radius)}, Circumference: {calc_circumference(radius)}\")\n",
    "\n",
    "\"\"\"\n",
    "Changes: \n",
    "import * >>> import pi (to spesify what we need/use)\n",
    "def >>>docstrings,function visibility,spaces,snake_case,data types\n",
    "variable,print >>> spaces, f string, round for better visibility\n",
    "\"\"\""
   ]
  },
  {
   "cell_type": "markdown",
   "id": "1fd691b7",
   "metadata": {
    "id": "1fd691b7"
   },
   "source": [
    "Завдання 3."
   ]
  },
  {
   "cell_type": "code",
   "execution_count": 14,
   "id": "1d5acb2d",
   "metadata": {
    "ExecuteTime": {
     "end_time": "2023-07-29T17:06:18.612622Z",
     "start_time": "2023-07-29T17:06:18.598477Z"
    },
    "id": "1d5acb2d"
   },
   "outputs": [],
   "source": [
    "class animal: pass\n",
    "class dog(animal):\n",
    "    def __init__(self,name):\n",
    "        self.name=name\n",
    "        self.type='Dog'\n"
   ]
  },
  {
   "cell_type": "code",
   "execution_count": 21,
   "id": "0d4b2b8a",
   "metadata": {
    "id": "0d4b2b8a"
   },
   "outputs": [
    {
     "data": {
      "text/plain": [
       "'changes:\\nclasses >>> uppercase, empty initialization fix def __init__(self)\\nfunction >>> docstring,spaces, Superclass added to ensure that Animal is performed before Dog\\n'"
      ]
     },
     "execution_count": 21,
     "metadata": {},
     "output_type": "execute_result"
    }
   ],
   "source": [
    "class Animal:\n",
    "    \"\"\"\n",
    "    A class representing an animal.\n",
    "    \"\"\"\n",
    "\n",
    "    def __init__(self):\n",
    "        pass\n",
    "\n",
    "class Dog(Animal):\n",
    "    \"\"\"\n",
    "    A class representing a dog, inheriting from Animal.\n",
    "\n",
    "    Attributes:\n",
    "    name (str): The name of the dog.\n",
    "    type (str): The type of the animal, which is 'Dog'.\n",
    "    \"\"\"\n",
    "\n",
    "    def __init__(self, name):\n",
    "        \"\"\"\n",
    "        Initializes a Dog object with a name.\n",
    "\n",
    "        Parameters:\n",
    "        name (str): The name of the dog.\n",
    "        \"\"\"\n",
    "        super().__init__()\n",
    "        self.name = name\n",
    "        self.type = 'Dog'\n",
    "\n",
    "\"\"\"changes:\n",
    "classes >>> uppercase, empty initialization fix def __init__(self)\n",
    "function >>> docstring,spaces, Superclass added to ensure that Animal is performed before Dog\n",
    "\"\"\""
   ]
  },
  {
   "cell_type": "markdown",
   "id": "7d1d4f5d",
   "metadata": {
    "id": "7d1d4f5d"
   },
   "source": [
    "Завдання 4."
   ]
  },
  {
   "cell_type": "code",
   "execution_count": 6,
   "id": "a91c1cc4",
   "metadata": {
    "ExecuteTime": {
     "end_time": "2023-07-29T17:06:47.180263Z",
     "start_time": "2023-07-29T17:06:47.173617Z"
    },
    "id": "a91c1cc4"
   },
   "outputs": [
    {
     "name": "stdout",
     "output_type": "stream",
     "text": [
      "1\n",
      "2\n",
      "3\n",
      "4\n",
      "5\n"
     ]
    }
   ],
   "source": [
    "list=[1,2,3,4,5]\n",
    "for i in range(len(list)):print(list[i])"
   ]
  },
  {
   "cell_type": "code",
   "execution_count": 34,
   "id": "c0f9541a",
   "metadata": {
    "id": "c0f9541a"
   },
   "outputs": [
    {
     "name": "stdout",
     "output_type": "stream",
     "text": [
      "1\n",
      "2\n",
      "3\n",
      "4\n",
      "5\n"
     ]
    },
    {
     "data": {
      "text/plain": [
       "'\\nchanges:\\nspaces,List Comprehensions\\n'"
      ]
     },
     "execution_count": 34,
     "metadata": {},
     "output_type": "execute_result"
    }
   ],
   "source": [
    "mylist = [1,2,3,4,5]\n",
    "for num in mylist:\n",
    "    print(num)\n",
    "\n",
    "\n",
    "\n",
    "\"\"\"\n",
    "changes:\n",
    "spaces,renaming, simplification\n",
    "\"\"\""
   ]
  },
  {
   "cell_type": "markdown",
   "id": "8b0487e6",
   "metadata": {
    "id": "8b0487e6"
   },
   "source": [
    "5.У вас є DataFrame df, що представляє результати тестів студентів з математики, англійської мови та історії. Поточний код обчислює середній бал для кожного студента шляхом ітерації за рядками DataFrame за допомогою iterrows().\n",
    "\n",
    "Ваше завдання полягає в тому, щоб змінити код так, аби уникнути використання iterrows() і замість цього застосувати більш ефективне та читабельне рішення відповідно до правил, озвучених у лекції. Рефакторинг треба зробити лише частині, де рахуються середні, імпорт і визначення датафрейму лишаємо без змін."
   ]
  },
  {
   "cell_type": "code",
   "execution_count": 37,
   "id": "5b3cc648",
   "metadata": {
    "ExecuteTime": {
     "end_time": "2023-07-29T17:15:55.926882Z",
     "start_time": "2023-07-29T17:15:55.686415Z"
    },
    "id": "5b3cc648"
   },
   "outputs": [
    {
     "data": {
      "text/html": [
       "<div>\n",
       "<style scoped>\n",
       "    .dataframe tbody tr th:only-of-type {\n",
       "        vertical-align: middle;\n",
       "    }\n",
       "\n",
       "    .dataframe tbody tr th {\n",
       "        vertical-align: top;\n",
       "    }\n",
       "\n",
       "    .dataframe thead th {\n",
       "        text-align: right;\n",
       "    }\n",
       "</style>\n",
       "<table border=\"1\" class=\"dataframe\">\n",
       "  <thead>\n",
       "    <tr style=\"text-align: right;\">\n",
       "      <th></th>\n",
       "      <th>student</th>\n",
       "      <th>math_score</th>\n",
       "      <th>english_score</th>\n",
       "      <th>history_score</th>\n",
       "    </tr>\n",
       "  </thead>\n",
       "  <tbody>\n",
       "    <tr>\n",
       "      <th>0</th>\n",
       "      <td>Alice</td>\n",
       "      <td>89</td>\n",
       "      <td>92</td>\n",
       "      <td>84</td>\n",
       "    </tr>\n",
       "    <tr>\n",
       "      <th>1</th>\n",
       "      <td>Bob</td>\n",
       "      <td>94</td>\n",
       "      <td>88</td>\n",
       "      <td>92</td>\n",
       "    </tr>\n",
       "    <tr>\n",
       "      <th>2</th>\n",
       "      <td>Charlie</td>\n",
       "      <td>77</td>\n",
       "      <td>79</td>\n",
       "      <td>81</td>\n",
       "    </tr>\n",
       "    <tr>\n",
       "      <th>3</th>\n",
       "      <td>David</td>\n",
       "      <td>85</td>\n",
       "      <td>85</td>\n",
       "      <td>89</td>\n",
       "    </tr>\n",
       "  </tbody>\n",
       "</table>\n",
       "</div>"
      ],
      "text/plain": [
       "   student  math_score  english_score  history_score\n",
       "0    Alice          89             92             84\n",
       "1      Bob          94             88             92\n",
       "2  Charlie          77             79             81\n",
       "3    David          85             85             89"
      ]
     },
     "execution_count": 37,
     "metadata": {},
     "output_type": "execute_result"
    }
   ],
   "source": [
    "import pandas as pd\n",
    "\n",
    "df = pd.DataFrame({\n",
    "    'student': ['Alice', 'Bob', 'Charlie', 'David'],\n",
    "    'math_score': [89, 94, 77, 85],\n",
    "    'english_score': [92, 88, 79, 85],\n",
    "    'history_score': [84, 92, 81, 89]\n",
    "})\n",
    "df"
   ]
  },
  {
   "cell_type": "code",
   "execution_count": 47,
   "id": "f5858889",
   "metadata": {
    "ExecuteTime": {
     "end_time": "2023-07-29T17:15:55.926882Z",
     "start_time": "2023-07-29T17:15:55.686415Z"
    },
    "id": "f5858889"
   },
   "outputs": [
    {
     "data": {
      "text/html": [
       "<div>\n",
       "<style scoped>\n",
       "    .dataframe tbody tr th:only-of-type {\n",
       "        vertical-align: middle;\n",
       "    }\n",
       "\n",
       "    .dataframe tbody tr th {\n",
       "        vertical-align: top;\n",
       "    }\n",
       "\n",
       "    .dataframe thead th {\n",
       "        text-align: right;\n",
       "    }\n",
       "</style>\n",
       "<table border=\"1\" class=\"dataframe\">\n",
       "  <thead>\n",
       "    <tr style=\"text-align: right;\">\n",
       "      <th></th>\n",
       "      <th>student</th>\n",
       "      <th>math_score</th>\n",
       "      <th>english_score</th>\n",
       "      <th>history_score</th>\n",
       "      <th>average_score</th>\n",
       "    </tr>\n",
       "  </thead>\n",
       "  <tbody>\n",
       "    <tr>\n",
       "      <th>0</th>\n",
       "      <td>Alice</td>\n",
       "      <td>89</td>\n",
       "      <td>92</td>\n",
       "      <td>84</td>\n",
       "      <td>88.333333</td>\n",
       "    </tr>\n",
       "    <tr>\n",
       "      <th>1</th>\n",
       "      <td>Bob</td>\n",
       "      <td>94</td>\n",
       "      <td>88</td>\n",
       "      <td>92</td>\n",
       "      <td>91.333333</td>\n",
       "    </tr>\n",
       "    <tr>\n",
       "      <th>2</th>\n",
       "      <td>Charlie</td>\n",
       "      <td>77</td>\n",
       "      <td>79</td>\n",
       "      <td>81</td>\n",
       "      <td>79.000000</td>\n",
       "    </tr>\n",
       "    <tr>\n",
       "      <th>3</th>\n",
       "      <td>David</td>\n",
       "      <td>85</td>\n",
       "      <td>85</td>\n",
       "      <td>89</td>\n",
       "      <td>86.333333</td>\n",
       "    </tr>\n",
       "  </tbody>\n",
       "</table>\n",
       "</div>"
      ],
      "text/plain": [
       "   student  math_score  english_score  history_score  average_score\n",
       "0    Alice          89             92             84      88.333333\n",
       "1      Bob          94             88             92      91.333333\n",
       "2  Charlie          77             79             81      79.000000\n",
       "3    David          85             85             89      86.333333"
      ]
     },
     "execution_count": 47,
     "metadata": {},
     "output_type": "execute_result"
    }
   ],
   "source": [
    "averages = []\n",
    "for _, row in df.iterrows():\n",
    "    averages.append((row['math_score'] + row['english_score'] + row['history_score']) / 3)\n",
    "\n",
    "df['average_score'] = averages\n",
    "df"
   ]
  },
  {
   "cell_type": "code",
   "execution_count": 46,
   "id": "74cea4fc",
   "metadata": {
    "id": "74cea4fc"
   },
   "outputs": [
    {
     "data": {
      "text/html": [
       "<div>\n",
       "<style scoped>\n",
       "    .dataframe tbody tr th:only-of-type {\n",
       "        vertical-align: middle;\n",
       "    }\n",
       "\n",
       "    .dataframe tbody tr th {\n",
       "        vertical-align: top;\n",
       "    }\n",
       "\n",
       "    .dataframe thead th {\n",
       "        text-align: right;\n",
       "    }\n",
       "</style>\n",
       "<table border=\"1\" class=\"dataframe\">\n",
       "  <thead>\n",
       "    <tr style=\"text-align: right;\">\n",
       "      <th></th>\n",
       "      <th>student</th>\n",
       "      <th>math_score</th>\n",
       "      <th>english_score</th>\n",
       "      <th>history_score</th>\n",
       "      <th>average_score</th>\n",
       "    </tr>\n",
       "  </thead>\n",
       "  <tbody>\n",
       "    <tr>\n",
       "      <th>0</th>\n",
       "      <td>Alice</td>\n",
       "      <td>89</td>\n",
       "      <td>92</td>\n",
       "      <td>84</td>\n",
       "      <td>88.33</td>\n",
       "    </tr>\n",
       "    <tr>\n",
       "      <th>1</th>\n",
       "      <td>Bob</td>\n",
       "      <td>94</td>\n",
       "      <td>88</td>\n",
       "      <td>92</td>\n",
       "      <td>91.33</td>\n",
       "    </tr>\n",
       "    <tr>\n",
       "      <th>2</th>\n",
       "      <td>Charlie</td>\n",
       "      <td>77</td>\n",
       "      <td>79</td>\n",
       "      <td>81</td>\n",
       "      <td>79.00</td>\n",
       "    </tr>\n",
       "    <tr>\n",
       "      <th>3</th>\n",
       "      <td>David</td>\n",
       "      <td>85</td>\n",
       "      <td>85</td>\n",
       "      <td>89</td>\n",
       "      <td>86.33</td>\n",
       "    </tr>\n",
       "  </tbody>\n",
       "</table>\n",
       "</div>"
      ],
      "text/plain": [
       "   student  math_score  english_score  history_score  average_score\n",
       "0    Alice          89             92             84          88.33\n",
       "1      Bob          94             88             92          91.33\n",
       "2  Charlie          77             79             81          79.00\n",
       "3    David          85             85             89          86.33"
      ]
     },
     "execution_count": 46,
     "metadata": {},
     "output_type": "execute_result"
    }
   ],
   "source": [
    "df['average_score'] = round((df['math_score'] + df['english_score'] + df['history_score']) / 3, 2)\n",
    "df\n",
    "#pd vectorized calculation, is it ok to round like this??? do not like long numbers"
   ]
  },
  {
   "cell_type": "markdown",
   "id": "34fb1db9",
   "metadata": {
    "id": "34fb1db9"
   },
   "source": [
    "6.У Вас є великий DataFrame df, що представляє транзакції продажу в магазині. Цей DataFrame містить понад 1 мільйон рядків і кілька стовпців, зокрема «product_name», «product_category», «product_price» і «transaction_date».\n",
    "\n",
    "І «product_name», і «product_category» є рядками, що представляють численні, але обмежені унікальні назви продуктів і категорії відповідно.\n",
    "\n",
    "Напишіть код для ефективного перетворення стовпців «product_name» і «product_category» на категорійний тип для ефективного використання пам’яті.\n",
    "Спробуйте вирішити це завдання, мінімізуючи використання пам'яті та зберігаючи читабельність коду. Крім того, виміряйте використання пам’яті до та після перетворення, щоб продемонструвати підвищення ефективності.\n",
    "\n",
    "Порівняйте кількість памʼяті, яку займає наданий набір даних і новий, створений Вами. В лекції був приклад. В скільки разів менше памʼяті займає новий датафрейм?"
   ]
  },
  {
   "cell_type": "code",
   "execution_count": 59,
   "id": "d4926909",
   "metadata": {
    "ExecuteTime": {
     "end_time": "2023-07-29T21:19:30.009527Z",
     "start_time": "2023-07-29T21:19:29.595210Z"
    },
    "id": "d4926909"
   },
   "outputs": [
    {
     "data": {
      "text/plain": [
       "32000000"
      ]
     },
     "execution_count": 59,
     "metadata": {},
     "output_type": "execute_result"
    }
   ],
   "source": [
    "import pandas as pd\n",
    "import numpy as np\n",
    "\n",
    "np.random.seed(0)\n",
    "\n",
    "products = ['apple', 'banana', 'cherry', 'dates', 'elderberry']\n",
    "categories = ['fruit', 'fruit', 'fruit', 'fruit', 'fruit']\n",
    "\n",
    "N_ROWS = 10**6\n",
    "\n",
    "df = pd.DataFrame({\n",
    "    'product_name': np.random.choice(products, N_ROWS),\n",
    "    'product_category': np.random.choice(categories, N_ROWS),\n",
    "    'product_price': np.random.uniform(1, 10, N_ROWS),\n",
    "    'transaction_date': pd.date_range(start='1/1/2000', periods=N_ROWS, freq='h')\n",
    "})\n",
    "\n",
    "df.memory_usage(index=False).sum()"
   ]
  },
  {
   "cell_type": "code",
   "execution_count": 60,
   "id": "9b43d261-6e5e-4ab8-a76b-49811d0d4b34",
   "metadata": {
    "tags": []
   },
   "outputs": [
    {
     "data": {
      "text/plain": [
       "93633560"
      ]
     },
     "execution_count": 60,
     "metadata": {},
     "output_type": "execute_result"
    }
   ],
   "source": [
    "for col in df.columns:\n",
    "    df[col] =  pd.Categorical(df[col])\n",
    "df.memory_usage(index=False).sum()\n"
   ]
  },
  {
   "cell_type": "code",
   "execution_count": 64,
   "id": "19b03c71-d314-40bf-8f19-9c4a3620c2d1",
   "metadata": {
    "tags": []
   },
   "outputs": [
    {
     "name": "stdout",
     "output_type": "stream",
     "text": [
      "Initial memory usage: 30.517578125 MB\n",
      "Memory usage after conversion: 17.16645050048828 MB\n",
      "Memory reduction ratio: 1.78\n"
     ]
    }
   ],
   "source": [
    "import pandas as pd\n",
    "import numpy as np\n",
    "\n",
    "np.random.seed(0)\n",
    "\n",
    "products = ['apple', 'banana', 'cherry', 'dates', 'elderberry']\n",
    "categories = ['fruit', 'fruit', 'fruit', 'fruit', 'fruit']\n",
    "\n",
    "N_ROWS = 10**6\n",
    "\n",
    "df = pd.DataFrame({\n",
    "    'product_name': np.random.choice(products, N_ROWS),\n",
    "    'product_category': np.random.choice(categories, N_ROWS),\n",
    "    'product_price': np.random.uniform(1, 10, N_ROWS),\n",
    "    'transaction_date': pd.date_range(start='1/1/2000', periods=N_ROWS, freq='h')\n",
    "})\n",
    "\n",
    "# Calculate df memory usage\n",
    "initial_memory = df.memory_usage(index=False).sum()\n",
    "print(f\"Initial memory usage: {initial_memory / 1024**2} MB\")\n",
    "\n",
    "# Convert 'product_name' and 'product_category' to categorical type\n",
    "df['product_name'] = df['product_name'].astype('category')\n",
    "df['product_category'] = df['product_category'].astype('category')\n",
    "\n",
    "# Calculate memory usage after conversion\n",
    "final_memory = df.memory_usage(index=False).sum()\n",
    "print(f\"Memory usage after conversion: {final_memory / 1024**2} MB\")\n",
    "\n",
    "# Memory usage reduction ratio\n",
    "reduction_ratio = initial_memory / final_memory\n",
    "print(f\"Memory reduction ratio: {reduction_ratio:.2f}\")\n",
    "\n"
   ]
  },
  {
   "cell_type": "markdown",
   "id": "131cc08d",
   "metadata": {
    "id": "131cc08d"
   },
   "source": [
    "7.В цьому завданні кілька пунктів. Треба виконати усі послідовно.   \n",
    "    7.1. Завантажте дані у pandas dataframe з файла `ecommerce_data.csv`. Обовʼязково при завантаженні вкажіть параметр `encoding = 'ISO-8859-1'`, без нього буде помилка.  \n",
    "    7.2. Заповніть пропущені значення в колонці CustomerID на -1 та перетворіть тип цієї колонки на str, адже зараз вона типу float, а це не правильний тип даних для ідентифікатора клієнта.  \n",
    "    7.3. З допомогою бібліотеки sweetviz побудуйте html звіт, який порівнює дані для країни \"Germany\" і країни \"France\". У Вас можуть виникнути багато попереджень (Warning), їх рекомендую вимкнути наступним шматком коду   \n",
    "    \n",
    "   \n",
    "    import warnings\n",
    "\n",
    "    with warnings.catch_warnings(record=True):\n",
    "        # your code\n",
    "    \n",
    "    \n",
    "   7.4.Напишіть 5 відмінностей для двох зазначених країн на основі побудованого звіту, без виконання додаткового аналізу іншими інструментами."
   ]
  },
  {
   "cell_type": "code",
   "execution_count": null,
   "id": "17200e77",
   "metadata": {
    "id": "17200e77"
   },
   "outputs": [],
   "source": []
  },
  {
   "cell_type": "markdown",
   "id": "07ae375a",
   "metadata": {
    "ExecuteTime": {
     "end_time": "2023-07-30T18:55:42.650457Z",
     "start_time": "2023-07-30T18:55:42.635729Z"
    },
    "id": "07ae375a"
   },
   "source": [
    "8.З допомогою ChatGPT виявіть, чи є та які помилки в наступному коді.  \n",
    "Попросіть після цього переписати код із дотриманням PEP8. Проаналізуйте результат. Чи справді ChatGPT виправив всі стилістичні помилки? Якщо ні, напишіть йому ще кілька запитів, аби код відповідав вимогам PEP8.  \n",
    "Вставте фінальну версію коду з чату у ноутбук та запустіть на заданому списку. Має вертатись 50.  \n",
    "Напишіть, які промпти (інструкції) при зверненні до ChatGPT ви застосували та додайте скріншот(-и) з промптами та відповідями чата.  \n",
    "Якщо зробили висновки при виконанні цього завдання, то діліться також :)\n",
    "\n",
    "**ЯК ВСТАВИТИ СКРІНШОТ в Jupyter Notebook** :\n",
    "1. Створіть нову Markdown клітинку\n",
    "2. В новоствореній клітинці обираєте в меню Jupyter Notebook Edit -> Insert Image\n",
    "3. Обираєте картинку\n",
    "4. В клітинці має зʼявитись текст, який містить картинку. Запустіть клітинку.\n",
    "\n",
    "Або можна просто перетягнути картинку в Markdown клітинку."
   ]
  },
  {
   "cell_type": "code",
   "execution_count": 10,
   "id": "a5c010c4",
   "metadata": {
    "ExecuteTime": {
     "end_time": "2023-07-30T19:16:20.977219Z",
     "start_time": "2023-07-30T19:16:20.973688Z"
    },
    "id": "a5c010c4"
   },
   "outputs": [],
   "source": [
    "def CalculateVariance(nl):\n",
    "    sum_list = 0\n",
    "    for n in nl:\n",
    "        sum_list = sum_list + n\n",
    "    mean = sum_list / len(nl)\n",
    "    sum_squares = 0\n",
    "    for n in nl:\n",
    "        sum_squares = sum_squares + n**2\n",
    "    mean_squares = sum_squares / len(nl)\n",
    "    return mean_squares"
   ]
  },
  {
   "cell_type": "code",
   "execution_count": 11,
   "id": "24bb3f81",
   "metadata": {
    "ExecuteTime": {
     "end_time": "2023-07-30T19:16:09.201841Z",
     "start_time": "2023-07-30T19:16:09.199174Z"
    },
    "id": "24bb3f81"
   },
   "outputs": [],
   "source": [
    "input_list = [75, 80, 85, 90, 95]"
   ]
  }
 ],
 "metadata": {
  "colab": {
   "provenance": []
  },
  "kernelspec": {
   "display_name": "Python 3 (ipykernel)",
   "language": "python",
   "name": "python3"
  },
  "language_info": {
   "codemirror_mode": {
    "name": "ipython",
    "version": 3
   },
   "file_extension": ".py",
   "mimetype": "text/x-python",
   "name": "python",
   "nbconvert_exporter": "python",
   "pygments_lexer": "ipython3",
   "version": "3.11.5"
  },
  "toc": {
   "base_numbering": 1,
   "nav_menu": {},
   "number_sections": true,
   "sideBar": true,
   "skip_h1_title": false,
   "title_cell": "Table of Contents",
   "title_sidebar": "Contents",
   "toc_cell": false,
   "toc_position": {},
   "toc_section_display": true,
   "toc_window_display": false
  }
 },
 "nbformat": 4,
 "nbformat_minor": 5
}
